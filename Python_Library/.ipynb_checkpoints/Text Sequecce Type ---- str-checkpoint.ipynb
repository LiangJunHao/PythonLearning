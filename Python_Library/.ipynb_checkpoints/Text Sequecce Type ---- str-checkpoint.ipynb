{
 "cells": [
  {
   "cell_type": "markdown",
   "metadata": {},
   "source": [
    "# Text Sequence Type — str"
   ]
  },
  {
   "cell_type": "markdown",
   "metadata": {},
   "source": [
    "String literal are written in a variety of ways"
   ]
  },
  {
   "cell_type": "markdown",
   "metadata": {},
   "source": [
    "* Singgle quotes:'allows embedded \"double\" quote'\n",
    "* Double quotes:\"allow embedded 'single' quote\"\n",
    "* Triple quoted:'''Three single quotes''',\"\"\"Three double quotes\"\"\"\n",
    "\n",
    "    ---triple quoted string may span multiple lines-all associated whitespace will be included in the string literal."
   ]
  },
  {
   "cell_type": "markdown",
   "metadata": {},
   "source": [
    "## String Methods"
   ]
  },
  {
   "cell_type": "markdown",
   "metadata": {},
   "source": [
    "Strings also support two styles of string formatting.\n",
    "1. providing a large degree of flexibility and customization\n",
    "2. based on C printf style formatting that handles a narrower range of types and is slightly harder to use correctly, but is often faster for the cases it can handle "
   ]
  },
  {
   "cell_type": "markdown",
   "metadata": {},
   "source": [
    "\n",
    "#### str.**capitalize()**\n",
    "\n",
    "    Return a copy of the string with its first character capitalized and the rest lowercased.\n"
   ]
  },
  {
   "cell_type": "code",
   "execution_count": 9,
   "metadata": {},
   "outputs": [
    {
     "name": "stdout",
     "output_type": "stream",
     "text": [
      "Hello\n",
      "Hello\n"
     ]
    }
   ],
   "source": [
    "test_text = \"hello\"\n",
    "print(str.capitalize(test_text))\n",
    "print(test_text.capitalize())\n",
    "##just to remember the usage of function invoking"
   ]
  },
  {
   "cell_type": "markdown",
   "metadata": {},
   "source": [
    " ### str.casefold()\n",
    "\n",
    "    Return a casefolded copy of the string. Casefolded strings may be used for caseless matching.\n",
    "    \n",
    "    Casefolding is similar to lowercasing but more aggressive because it is intended to remove all case distinctions in a string. For example, the German lowercase letter 'ß' is equivalent to \"ss\". Since it is already lowercase, lower() would do nothing to 'ß'; casefold() converts it to \"ss\".\n",
    "    \n",
    "**Difference: It is a function to handle foreign language(except English) **\n",
    "    \n",
    "    The casefolding algorithm is described in section 3.13 of the Unicode Standard."
   ]
  },
  {
   "cell_type": "code",
   "execution_count": 12,
   "metadata": {},
   "outputs": [
    {
     "name": "stdout",
     "output_type": "stream",
     "text": [
      "hello\n",
      "hello\n"
     ]
    }
   ],
   "source": [
    "test_text = \"HeLLo\"\n",
    "print(str.casefold(test_text))\n",
    "print(test_text.casefold())"
   ]
  },
  {
   "cell_type": "markdown",
   "metadata": {},
   "source": [
    "### str.center(width[,fillchar])\n",
    "    Return centered in a string of length width. Padding is done using the specified fillchar (default is an ASCII space). The original string is returned if width is less than or equal to len(s)."
   ]
  },
  {
   "cell_type": "code",
   "execution_count": 26,
   "metadata": {},
   "outputs": [
    {
     "name": "stdout",
     "output_type": "stream",
     "text": [
      "*******HeLLo********\n",
      "       HeLLo        \n"
     ]
    }
   ],
   "source": [
    "test_text = \"HeLLo\"\n",
    "print(test_text.center(20,\"*\"))\n",
    "print(test_text.center(20))"
   ]
  },
  {
   "cell_type": "markdown",
   "metadata": {},
   "source": [
    " ### str.count(sub[, start[, end]])"
   ]
  },
  {
   "cell_type": "markdown",
   "metadata": {},
   "source": [
    "    Return the number of non-overlapping occurrences of substring sub in the range [start, end]. Optional arguments start and end are interpreted as in slice notation.\n",
    "    Option 'start' starts form 0 like arrary."
   ]
  },
  {
   "cell_type": "code",
   "execution_count": 37,
   "metadata": {},
   "outputs": [
    {
     "name": "stdout",
     "output_type": "stream",
     "text": [
      "1\n",
      "0\n"
     ]
    }
   ],
   "source": [
    "test_text = \"HeLLo\"\n",
    "print(test_text.count(\"H\"))\n",
    "print(test_text.count(\"H\",1,3))"
   ]
  },
  {
   "cell_type": "markdown",
   "metadata": {},
   "source": [
    "###  str.encode(encoding=\"utf-8\", errors=\"strict\")¶"
   ]
  },
  {
   "cell_type": "markdown",
   "metadata": {},
   "source": [
    "    Return an encoded version of the string as a bytes object. Default encoding is 'utf-8'. errors may be given to set a different error handling scheme. The default for errors is 'strict', meaning that encoding errors raise a UnicodeError. Other possible values are 'ignore', 'replace', 'xmlcharrefreplace', 'backslashreplace' and any other name registered via codecs.register_error(), see section Error Handlers. \n",
    "\n",
    "    Changed in version 3.1: Support for keyword arguments added."
   ]
  },
  {
   "cell_type": "code",
   "execution_count": 49,
   "metadata": {},
   "outputs": [
    {
     "data": {
      "text/plain": [
       "b'abcd'"
      ]
     },
     "execution_count": 49,
     "metadata": {},
     "output_type": "execute_result"
    }
   ],
   "source": [
    "test_text = \"abcd\"\n",
    "test_text.encode('UTF-8','strict')"
   ]
  },
  {
   "cell_type": "markdown",
   "metadata": {},
   "source": [
    "### str.decode(encoding=\"utf-8\", errors=\"strict\")"
   ]
  },
  {
   "cell_type": "markdown",
   "metadata": {},
   "source": [
    "### intruction"
   ]
  },
  {
   "cell_type": "markdown",
   "metadata": {},
   "source": [
    "Function : decode the encoded string.\n",
    "\n",
    "Usage : str.decode(encoded =\"utf-8\",errors=\"strict\")"
   ]
  },
  {
   "cell_type": "code",
   "execution_count": 53,
   "metadata": {},
   "outputs": [
    {
     "name": "stdout",
     "output_type": "stream",
     "text": [
      "Encoded String : b'Hello World'\n",
      "Decoded String : Hello World\n"
     ]
    }
   ],
   "source": [
    "test_text = \"Hello World\"\n",
    "test_text = test_text.encode(\"utf-8\",\"strict\")\n",
    "\n",
    "print(\"Encoded String :\",test_text)\n",
    "print(\"Decoded String :\",test_text.decode('utf-8','strict'))"
   ]
  },
  {
   "cell_type": "markdown",
   "metadata": {},
   "source": [
    "### str.lower()"
   ]
  },
  {
   "cell_type": "markdown",
   "metadata": {},
   "source": [
    "### Intruciton\n",
    "Return a copy of the string with all the cased characters [4] converted to lowercase.\n",
    "\n",
    "The lowercasing algorithm used is described in section 3.13 of the Unicode Standard\n",
    "\n",
    "### Usage\n",
    "**str.lower()**"
   ]
  },
  {
   "cell_type": "code",
   "execution_count": 2,
   "metadata": {},
   "outputs": [
    {
     "data": {
      "text/plain": [
       "'hello world'"
      ]
     },
     "execution_count": 2,
     "metadata": {},
     "output_type": "execute_result"
    }
   ],
   "source": [
    "test_text = \"HELLo WOrld\"\n",
    "test_text.lower()"
   ]
  },
  {
   "cell_type": "markdown",
   "metadata": {},
   "source": [
    "###  str.split(sep=None,maxsplit=-1)"
   ]
  },
  {
   "cell_type": "markdown",
   "metadata": {},
   "source": [
    "### instruciton\n",
    "Return a list of the words in the string, using sep as the delimiter string.\n",
    "\n",
    "**maxsplit**:If maxsplit is given, at most maxsplit splits are done (thus, the list will have at most maxsplit+1 elements). If maxsplit is not specified or -1, then there is no limit on the number of splits (all possible splits are made).\n",
    "\n",
    "**sep**:If sep is given, consecutive delimiters are not grouped together and are deemed to delimit empty strings (for example, '1,,2'.split(',') returns ['1', '', '2']). The sep argument may consist of multiple characters (for example, '1<>2<>3'.split('<>') returns ['1', '2', '3']). Splitting an empty string with a specified separator returns ['']."
   ]
  },
  {
   "cell_type": "markdown",
   "metadata": {},
   "source": [
    "### Usage"
   ]
  },
  {
   "cell_type": "markdown",
   "metadata": {},
   "source": [
    "##### str.split(\",\",maxsplit = 3)"
   ]
  },
  {
   "cell_type": "code",
   "execution_count": 8,
   "metadata": {},
   "outputs": [
    {
     "name": "stdout",
     "output_type": "stream",
     "text": [
      "['HELLo', 'WOrld']\n",
      "['HELLo WOrld']\n",
      "['HELLo ', ' WOrld']\n"
     ]
    }
   ],
   "source": [
    "test_text = \"HELLo WOrld\"\n",
    "test_text1 = \"HELLo . WOrld\"\n",
    "print(test_text.split())\n",
    "print(test_text.split(maxsplit=0))\n",
    "print(test_text1.split(\".\"))"
   ]
  },
  {
   "cell_type": "markdown",
   "metadata": {},
   "source": [
    "## str.join(sequence)"
   ]
  },
  {
   "cell_type": "markdown",
   "metadata": {},
   "source": [
    "### intruction\n",
    "function **join** make the sequence join together with a symbol"
   ]
  },
  {
   "cell_type": "code",
   "execution_count": 4,
   "metadata": {},
   "outputs": [
    {
     "name": "stdout",
     "output_type": "stream",
     "text": [
      "['a', 'b', 'c']\n",
      "abc\n"
     ]
    }
   ],
   "source": [
    "test_text = [\"a\",\"b\", \"c\"]\n",
    "print(test_text)\n",
    "print(''.join(test_text))"
   ]
  },
  {
   "cell_type": "markdown",
   "metadata": {},
   "source": [
    "# To Be Continue"
   ]
  },
  {
   "cell_type": "code",
   "execution_count": null,
   "metadata": {},
   "outputs": [],
   "source": []
  }
 ],
 "metadata": {
  "kernelspec": {
   "display_name": "Python 3",
   "language": "python",
   "name": "python3"
  },
  "language_info": {
   "codemirror_mode": {
    "name": "ipython",
    "version": 3
   },
   "file_extension": ".py",
   "mimetype": "text/x-python",
   "name": "python",
   "nbconvert_exporter": "python",
   "pygments_lexer": "ipython3",
   "version": "3.6.4"
  }
 },
 "nbformat": 4,
 "nbformat_minor": 2
}
