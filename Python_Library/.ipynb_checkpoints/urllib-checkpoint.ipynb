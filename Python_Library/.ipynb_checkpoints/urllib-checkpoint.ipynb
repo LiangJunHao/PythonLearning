{
 "cells": [
  {
   "cell_type": "markdown",
   "metadata": {},
   "source": [
    "# urllib — URL handling modules"
   ]
  },
  {
   "cell_type": "markdown",
   "metadata": {},
   "source": [
    "urllib is a package that collects several modules for working with URLs:\n",
    "\n",
    "    urllib.request for opening and reading URLs\n",
    "    urllib.error containing the exceptions raised by urllib.request\n",
    "    urllib.parse for parsing URLs\n",
    "    urllib.robotparser for parsing robots.txt files\n"
   ]
  },
  {
   "cell_type": "markdown",
   "metadata": {},
   "source": [
    "The urllib.request module defines the following fuctions:\n",
    "\n",
    "**urllib.request.urlopen**\n",
    "    Openr the URL, which can be either a string or a Request object."
   ]
  },
  {
   "cell_type": "code",
   "execution_count": 5,
   "metadata": {},
   "outputs": [
    {
     "data": {
      "text/plain": [
       "<bound method HTTPResponse.readline of <http.client.HTTPResponse object at 0x7f4d706bd4a8>>"
      ]
     },
     "execution_count": 5,
     "metadata": {},
     "output_type": "execute_result"
    }
   ],
   "source": [
    "import urllib.request\n",
    "urllib.request.urlopen(\"http://learncodethehardway.org/words.txt\").readline"
   ]
  }
 ],
 "metadata": {
  "kernelspec": {
   "display_name": "Python 3",
   "language": "python",
   "name": "python3"
  },
  "language_info": {
   "codemirror_mode": {
    "name": "ipython",
    "version": 3
   },
   "file_extension": ".py",
   "mimetype": "text/x-python",
   "name": "python",
   "nbconvert_exporter": "python",
   "pygments_lexer": "ipython3",
   "version": "3.6.4"
  }
 },
 "nbformat": 4,
 "nbformat_minor": 2
}
