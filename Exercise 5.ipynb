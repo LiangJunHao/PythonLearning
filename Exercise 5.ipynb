{
 "cells": [
  {
   "cell_type": "markdown",
   "metadata": {},
   "source": [
    "# Exercise 5. More Variables and Printing"
   ]
  },
  {
   "cell_type": "code",
   "execution_count": 9,
   "metadata": {},
   "outputs": [
    {
     "name": "stdout",
     "output_type": "stream",
     "text": [
      "Lets talk about junhao\n",
      "He is 179 tall\n",
      "He is 180 pounds heavy\n",
      "He has got White eyes and Black hair.\n",
      "His teech are usually White depending on the coffee\n",
      "If I add 19, 180,and 179, I get 19 +179 +180.\n"
     ]
    }
   ],
   "source": [
    "my_name ='junhao'\n",
    "my_age = 19\n",
    "my_height = 179\n",
    "my_weight = 180\n",
    "my_eyes = 'Black'\n",
    "my_teeth = 'White'\n",
    "my_hair ='Black'\n",
    "\n",
    "print(f\"Lets talk about {my_name}\")\n",
    "print(f\"He is {my_height} tall\")\n",
    "print(f\"He is {my_weight} pounds heavy\")\n",
    "print(f\"He has got {my_teeth} eyes and {my_hair} hair.\")\n",
    "print(f\"His teech are usually {my_teeth} depending on the coffee\")\n",
    "\n",
    "#this line is tricky ,try to get it exactly right\n",
    "total =f\"{my_age} +{my_height} +{my_weight}\"\n",
    "print(f\"If I add {my_age}, {my_weight},and {my_height}, I get {total}.\")"
   ]
  },
  {
   "cell_type": "code",
   "execution_count": null,
   "metadata": {},
   "outputs": [],
   "source": []
  }
 ],
 "metadata": {
  "kernelspec": {
   "display_name": "Python 3",
   "language": "python",
   "name": "python3"
  },
  "language_info": {
   "codemirror_mode": {
    "name": "ipython",
    "version": 3
   },
   "file_extension": ".py",
   "mimetype": "text/x-python",
   "name": "python",
   "nbconvert_exporter": "python",
   "pygments_lexer": "ipython3",
   "version": "3.6.4"
  }
 },
 "nbformat": 4,
 "nbformat_minor": 2
}
