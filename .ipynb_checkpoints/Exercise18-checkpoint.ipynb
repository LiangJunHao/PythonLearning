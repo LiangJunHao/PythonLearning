{
 "cells": [
  {
   "cell_type": "markdown",
   "metadata": {},
   "source": [
    "# Exercise 18. Names, Variables, Code, Functions"
   ]
  },
  {
   "cell_type": "markdown",
   "metadata": {},
   "source": [
    "## Introduction"
   ]
  },
  {
   "cell_type": "markdown",
   "metadata": {},
   "source": [
    "In this exercise, we will take a look at the function. As we all known, every programmer will go on and on about functions and all the different ideas about how they work and what they do. The following is the simplest explanation of functions."
   ]
  },
  {
   "cell_type": "markdown",
   "metadata": {},
   "source": [
    "**Function do three things:**"
   ]
  },
  {
   "cell_type": "markdown",
   "metadata": {},
   "source": [
    "1. They name pieces of code the way variables name strings and numbers.\n",
    "\n",
    "2. They take arguments the way your scripts take argv.\n",
    "\n",
    "3. Using 1 and 2, they let you make your own “mini-scripts” or “tiny commands.”"
   ]
  },
  {
   "cell_type": "markdown",
   "metadata": {},
   "source": [
    "## Code"
   ]
  },
  {
   "cell_type": "code",
   "execution_count": 1,
   "metadata": {},
   "outputs": [
    {
     "ename": "IndentationError",
     "evalue": "expected an indented block (<ipython-input-1-2a950b2aada5>, line 2)",
     "output_type": "error",
     "traceback": [
      "\u001b[0;36m  File \u001b[0;32m\"<ipython-input-1-2a950b2aada5>\"\u001b[0;36m, line \u001b[0;32m2\u001b[0m\n\u001b[0;31m    arg1, arg2 =args\u001b[0m\n\u001b[0m       ^\u001b[0m\n\u001b[0;31mIndentationError\u001b[0m\u001b[0;31m:\u001b[0m expected an indented block\n"
     ]
    }
   ],
   "source": [
    "def print_two(*args):#'def' means for \"define\"\n",
    "    arg1, arg2 =args#Be careful of the indent\n",
    "    print(f\"arg1: {arg1}, arg2: {arg2}\")\n",
    "\n",
    "def print_two_again(arg1, arg2):\n",
    "    print(f\"arg1: {arg1}, arg2: {arg2}\")\n",
    "\n",
    "def print_one(arg1):\n",
    "    print(f\"arg1: {arg1}\")\n",
    "    \n",
    "def print_none():\n",
    "    print(\"I got nothing.\")\n",
    "    \n",
    "print_two(\"Junhao\", \"Liang\")\n",
    "print_two_again(\"Junhao\", \"Liang\")\n",
    "print_one(\"Junhao\")\n",
    "print_none()"
   ]
  },
  {
   "cell_type": "markdown",
   "metadata": {},
   "source": [
    "## Note"
   ]
  },
  {
   "cell_type": "markdown",
   "metadata": {},
   "source": [
    "The 'args'(asterisk args), is a lot like **argv** parameter in the command line. But it is for functions.\n",
    "\n",
    "After the colon, all the lines that are indented four spaces will become attached to print_two. Our first indented line is one that unpacks the arguments, the same as with your scripts.\n",
    "\n",
    "The function of  **\\***\n",
    "\n",
    "That tells Python to take all the arguments to the function and then put them in args as a list. It’s like argv that you’ve been using but for functions. It’s not normally used too often unless specifically needed."
   ]
  },
  {
   "cell_type": "markdown",
   "metadata": {},
   "source": [
    "## What You Should See"
   ]
  },
  {
   "cell_type": "markdown",
   "metadata": {},
   "source": [
    ">$ python3.6 ex18.py\n",
    "\n",
    ">arg1: Junhao, arg2: Liang\n",
    "\n",
    ">arg1: Junhao, arg2: Liang\n",
    "\n",
    ">arg1: Junhao!\n",
    "\n",
    ">I got nothing."
   ]
  },
  {
   "cell_type": "markdown",
   "metadata": {},
   "source": [
    "## Study Drill"
   ]
  },
  {
   "cell_type": "markdown",
   "metadata": {},
   "source": [
    "1. Did you start your function definition with def?\n",
    "\n",
    "2. Does your function name have only characters and _ (underscore) characters?\n",
    "\n",
    "3. Did you put an open parenthesis right after the function name?\n",
    "\n",
    "4. Did you put your arguments after the parenthesis separated by commas?\n",
    "\n",
    "5. Did you make each argument unique (meaning no duplicated names)?\n",
    "\n",
    "6. Did you put a close parenthesis and a colon after the arguments?\n",
    "\n",
    "7. Did you indent all lines of code you want in the function four spaces? No more, no less.\n",
    "\n",
    "8. Did you “end” your function by going back to writing with no indent (dedenting, we call it)?\n",
    "\n",
    "When you run (“use” or “call”) a function, check these things:\n",
    "\n",
    "1. Did you call/use/run this function by typing its name?\n",
    "\n",
    "2. Did you put the ( character after the name to run it?\n",
    "\n",
    "3. Did you put the values you want into the parentheses separated by commas?\n",
    "\n",
    "4. Did you end the function call with a ) character?\n",
    "\n",
    "Use these two checklists on the remaining lessons until you do not need them anymore.\n",
    "\n",
    "Finally, repeat this a few times to yourself: To “run,” “call,” or “use” a function each means the same thing.\n"
   ]
  }
 ],
 "metadata": {
  "kernelspec": {
   "display_name": "Python 3",
   "language": "python",
   "name": "python3"
  },
  "language_info": {
   "codemirror_mode": {
    "name": "ipython",
    "version": 3
   },
   "file_extension": ".py",
   "mimetype": "text/x-python",
   "name": "python",
   "nbconvert_exporter": "python",
   "pygments_lexer": "ipython3",
   "version": "3.6.4"
  }
 },
 "nbformat": 4,
 "nbformat_minor": 2
}
