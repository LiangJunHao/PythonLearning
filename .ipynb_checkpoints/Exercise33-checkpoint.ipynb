{
 "cells": [
  {
   "cell_type": "markdown",
   "metadata": {},
   "source": [
    "# Exercise 33. While Loops"
   ]
  },
  {
   "cell_type": "markdown",
   "metadata": {},
   "source": [
    "In the last exercise, we learned **for** loop. Of course, there is no doubt that other loop exists. Now we will take a look at **While** loop."
   ]
  },
  {
   "cell_type": "markdown",
   "metadata": {},
   "source": [
    "## Code"
   ]
  },
  {
   "cell_type": "code",
   "execution_count": 4,
   "metadata": {
    "scrolled": true
   },
   "outputs": [
    {
     "name": "stdout",
     "output_type": "stream",
     "text": [
      "At the top i is 0.\n",
      "Numbers now: [0]\n",
      "At the bottom i is 1\n",
      "At the top i is 1.\n",
      "Numbers now: [0, 1]\n",
      "At the bottom i is 2\n",
      "At the top i is 2.\n",
      "Numbers now: [0, 1, 2]\n",
      "At the bottom i is 3\n",
      "At the top i is 3.\n",
      "Numbers now: [0, 1, 2, 3]\n",
      "At the bottom i is 4\n",
      "At the top i is 4.\n",
      "Numbers now: [0, 1, 2, 3, 4]\n",
      "At the bottom i is 5\n",
      "At the top i is 5.\n",
      "Numbers now: [0, 1, 2, 3, 4, 5]\n",
      "At the bottom i is 6\n",
      "The numbers:\n",
      "0\n",
      "1\n",
      "2\n",
      "3\n",
      "4\n",
      "5\n"
     ]
    }
   ],
   "source": [
    "i = 0\n",
    "numbers = []\n",
    "while i < 6 :\n",
    "    print(f\"At the top i is {i}.\")\n",
    "    numbers.append(i)\n",
    "    i = i + 1\n",
    "    print(\"Numbers now:\", numbers)\n",
    "    print(f\"At the bottom i is {i}\")\n",
    "    \n",
    "print(\"The numbers:\")\n",
    "for num in numbers:\n",
    "    print(num)"
   ]
  },
  {
   "cell_type": "markdown",
   "metadata": {},
   "source": [
    "## Study Drill"
   ]
  },
  {
   "cell_type": "markdown",
   "metadata": {},
   "source": [
    "1. Convert this while-loop to a function that you can call, and replace 6 in the test (i < 6) with a variable.\n",
    "\n",
    "2. Use this function to rewrite the script to try different numbers.\n",
    "\n",
    "3. Add another variable to the function arguments that you can pass in that lets you change the + 1 on line 8 so you can change how much it increments by.\n",
    "\n",
    "4. Rewrite the script again to use this function to see what effect that has.\n",
    "\n",
    "5. Write it to use for-loops and range. Do you need the incrementor in the middle anymore? What happens if you do not get rid of it?\n",
    "\n",
    "If at any time you are doing this it goes crazy (it probably will), just hold down CTRL and press c (CTRL-c) and the program will abort."
   ]
  }
 ],
 "metadata": {
  "kernelspec": {
   "display_name": "Python 3",
   "language": "python",
   "name": "python3"
  },
  "language_info": {
   "codemirror_mode": {
    "name": "ipython",
    "version": 3
   },
   "file_extension": ".py",
   "mimetype": "text/x-python",
   "name": "python",
   "nbconvert_exporter": "python",
   "pygments_lexer": "ipython3",
   "version": "3.6.4"
  }
 },
 "nbformat": 4,
 "nbformat_minor": 2
}
