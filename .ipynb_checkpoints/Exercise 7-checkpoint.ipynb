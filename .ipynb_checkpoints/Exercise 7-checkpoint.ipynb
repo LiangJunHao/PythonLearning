{
 "cells": [
  {
   "cell_type": "markdown",
   "metadata": {},
   "source": [
    "# Exercise 7. More Printing"
   ]
  },
  {
   "cell_type": "markdown",
   "metadata": {},
   "source": [
    "## Code"
   ]
  },
  {
   "cell_type": "code",
   "execution_count": 9,
   "metadata": {},
   "outputs": [
    {
     "name": "stdout",
     "output_type": "stream",
     "text": [
      "Mary had a little lamb\n",
      "Its fleece was white as snow.\n",
      "And everywhere that Mary went.\n",
      "..........\n",
      "Cheese Burger\n"
     ]
    }
   ],
   "source": [
    "print(\"Mary had a little lamb\")\n",
    "print(\"Its fleece was white as {}.\".format('snow'))\n",
    "#format(replace the {}in the print )\n",
    "print(\"And everywhere that Mary went.\")\n",
    "print(\".\"*10) #print 10 \".\"\n",
    "\n",
    "end1 = 'C'\n",
    "end2 = 'h'\n",
    "end3 = 'e'\n",
    "end4 = 'e'\n",
    "end5 = 's'\n",
    "end6 = 'e'\n",
    "end7 = 'B'\n",
    "end8 = 'u'\n",
    "end9 = 'r'\n",
    "end10 = \"g\"\n",
    "end11 = \"e\"\n",
    "end12 = \"r\"\n",
    "\n",
    "print(end1+end2+end3+end4+end5+end6,end=' ')\n",
    "#end =' ' means that this print will end with a 'space' instead of translate into a new line\n",
    "print(end7+end8+end9+end10+end11+end12)"
   ]
  },
  {
   "cell_type": "markdown",
   "metadata": {},
   "source": [
    "## What You Should See\n",
    "Mary had a little lamb.\n",
    "Its fleece was white as snow.\n",
    "And everywhere that Mary went.\n",
    "..........\n",
    "Cheese Burger"
   ]
  },
  {
   "cell_type": "markdown",
   "metadata": {},
   "source": [
    "## Study Drills \n",
    "### (For this exercise and next few exercises)\n",
    "\n",
    "1. Go back through and write a comment on what each line does.\n",
    "\n",
    "2. Read each one backward or out loud to find your errors.\n",
    "\n",
    "3. From now on, when you make mistakes, write down on a piece of paper what kind of mistake you made.\n",
    "\n",
    "4. When you go to the next exercise, look at the mistakes you have made and try not to make them in this new one.\n",
    "\n",
    "5. Remember that everyone makes mistakes. Programmers are like magicians who fool everyone into thinking they are perfect and never wrong, but it’s all an act. They make mistakes all the time."
   ]
  }
 ],
 "metadata": {
  "kernelspec": {
   "display_name": "Python 3",
   "language": "python",
   "name": "python3"
  },
  "language_info": {
   "codemirror_mode": {
    "name": "ipython",
    "version": 3
   },
   "file_extension": ".py",
   "mimetype": "text/x-python",
   "name": "python",
   "nbconvert_exporter": "python",
   "pygments_lexer": "ipython3",
   "version": "3.6.4"
  }
 },
 "nbformat": 4,
 "nbformat_minor": 2
}
