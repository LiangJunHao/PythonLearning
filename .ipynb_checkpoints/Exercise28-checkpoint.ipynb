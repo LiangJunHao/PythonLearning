{
 "cells": [
  {
   "cell_type": "markdown",
   "metadata": {},
   "source": [
    "# Exercise 28. Boolean Practice"
   ]
  },
  {
   "cell_type": "markdown",
   "metadata": {},
   "source": [
    "Boolean logic is used everywhere in programming. It is a fundamental part of computation, and knowing the expressions is akin to knowing your scales in music."
   ]
  },
  {
   "cell_type": "markdown",
   "metadata": {},
   "source": [
    "1. True and True\n",
    "\n",
    "2. False and True\n",
    "\n",
    "3. 1 == 1 and 2 == 1\n",
    "\n",
    "4. \"test\" == \"test\"\n",
    "\n",
    "5. 1 == 1 or 2 != 1\n",
    "\n",
    "6. True and 1 == 1\n",
    "\n",
    "7. False and 0 != 0\n",
    "\n",
    "8. True or 1 == 1\n",
    "\n",
    "9. \"test\" == \"testing\"\n",
    "\n",
    "10. 1 != 0 and 2 == 1\n",
    "\n",
    "11. \"test\" != \"testing\"\n",
    "\n",
    "12. \"test\" == 1\n",
    "\n",
    "13. not (True and False)\n",
    "\n",
    "14. not (1 == 1 and 0 != 1)\n",
    "\n",
    "15. not (10 == 1 or 1000 == 1000)\n",
    "\n",
    "16. not (1 != 10 or 3 == 4)\n",
    "\n",
    "17. not (\"testing\" == \"testing\" and \"Zed\" == \"Cool Guy\")\n",
    "\n",
    "18. 1 == 1 and (not (\"testing\" == 1 or 1 == 0))\n",
    "\n",
    "19. \"chunky\" == \"bacon\" and (not (3 == 4 or 3 == 3))\n",
    "\n",
    "20. 3 == 3 and (not (\"testing\" == \"testing\" or \"Python\" == \"Fun\"))"
   ]
  },
  {
   "cell_type": "markdown",
   "metadata": {},
   "source": [
    "## Answer"
   ]
  },
  {
   "cell_type": "markdown",
   "metadata": {},
   "source": [
    "1.True\n",
    "2.False\n",
    "3.False\n",
    "4.True\n",
    "5.True\n",
    "6.True\n",
    "7.False\n",
    "8.True\n",
    "9.False\n",
    "10.False\n",
    "11.True\n",
    "12.False\n",
    "13.True\n",
    "14.Flase\n",
    "15.Flase\n",
    "16.Flase\n",
    "17.True\n",
    "18.True\n",
    "19.fa;se\n",
    "20.False"
   ]
  },
  {
   "cell_type": "markdown",
   "metadata": {},
   "source": [
    "1. There are a lot of operators in Python similar to != and ==. Try to find as many “equality operators” as you can. They should be like < or <=.\n",
    "\n",
    "2. Write out the names of each of these equality operators. For example, I call != “not equal.”\n",
    "\n",
    "3. Play with Python by typing out new Boolean operators, and before you press Enter try to shout out what it is. Do not think about it. Shout the first thing that comes to mind. Write it down, then press Enter, and keep track of how many you get right and wrong.\n",
    "\n",
    "4. Throw away the piece of paper from 3 so you do not accidentally try to use it later."
   ]
  },
  {
   "cell_type": "markdown",
   "metadata": {},
   "source": [
    "### It's easy"
   ]
  }
 ],
 "metadata": {
  "kernelspec": {
   "display_name": "Python 3",
   "language": "python",
   "name": "python3"
  },
  "language_info": {
   "codemirror_mode": {
    "name": "ipython",
    "version": 3
   },
   "file_extension": ".py",
   "mimetype": "text/x-python",
   "name": "python",
   "nbconvert_exporter": "python",
   "pygments_lexer": "ipython3",
   "version": "3.6.4"
  }
 },
 "nbformat": 4,
 "nbformat_minor": 2
}
