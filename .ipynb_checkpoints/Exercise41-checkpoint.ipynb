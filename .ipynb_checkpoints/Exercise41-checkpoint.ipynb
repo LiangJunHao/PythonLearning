{
 "cells": [
  {
   "cell_type": "markdown",
   "metadata": {},
   "source": [
    "# Exercise 41. Learning to Speak Object-Oriented"
   ]
  },
  {
   "cell_type": "markdown",
   "metadata": {},
   "source": [
    "## WORD DRILLS"
   ]
  },
  {
   "cell_type": "markdown",
   "metadata": {},
   "source": [
    "**class** Tell Python to make a new type of thing.\n",
    "\n",
    "**object** Two meanings: the most basic type of thing, and any instance of some thing.\n",
    "\n",
    "**instance** What you get when you tell Python to create a class.\n",
    "\n",
    "**def** How you define a function inside a class.\n",
    "\n",
    "**self** Inside the functions in a class, self is a variable for the instance/object being accessed.\n",
    "\n",
    "**inheritance** The concept that one class can inherit traits from another class, much like you and your parents.\n",
    "\n",
    "**composition** The concept that a class can be composed of other classes as parts, much like how a car has wheels.\n",
    "\n",
    "**attribute** A property classes have that are from composition and are usually variables.\n",
    "\n",
    "**is-a** A phrase to say that something inherits from another, as in a “salmon” is-a ”fish.“\n",
    "\n",
    "**has-a** A phrase to say that something is composed of other things or has a trait, as in “a salmon has-a mouth.”\n",
    "\n",
    "Take some time to make flash cards for these terms and memorize them. As usual, this won’t make too much sense until after you are finished with this exercise, but you need to know the base words first."
   ]
  },
  {
   "cell_type": "markdown",
   "metadata": {},
   "source": [
    "## PHRASE DRILL"
   ]
  },
  {
   "cell_type": "markdown",
   "metadata": {},
   "source": [
    "Next I have a list of Python code snippets on the left, and the English sentences for them:\n",
    "\n",
    "class X(Y) “Make a class named X that is-a Y.”\n",
    "\n",
    "class X(object): def __init__(self, J) “class X has-a __init__ that takes self and J parameters.”\n",
    "\n",
    "class X(object): def M(self, J) “class X has-a function named M that takes self and J parameters.”\n",
    "\n",
    "foo = X() “Set foo to an instance of class X.”\n",
    "\n",
    "foo.M(J) “From foo, get the M function, and call it with parameters self, J.”\n",
    "\n",
    "foo.K = Q “From foo, get the K attribute, and set it to Q.”\n",
    "\n",
    "In each of these, where you see X, Y, M, J, K, Q, and foo, you can treat those like blank spots. For example, I can also write these sentences as follows:\n",
    "\n",
    "1. “Make a class named ??? that is-a Y.”\n",
    "\n",
    "2. “class ??? has-a __init__ that takes self and ??? parameters.”\n",
    "\n",
    "3. “class ??? has-a function named ??? that takes self and ??? parameters.”\n",
    "\n",
    "4. “Set ??? to an instance of class ???.”\n",
    "\n",
    "5. “From ???, get the ??? function, and call it with self=??? and parameters ???.”\n",
    "\n",
    "6. “From ???, get the ??? attribute, and set it to ???.”\n",
    "\n",
    "Again, write these on some flash cards and drill them. Put the Python code snippet on the front and the sentence on the back. You have to be able to say the sentence exactly the same every time whenever you see that form. Not sort of the same, but exactly the same."
   ]
  },
  {
   "cell_type": "code",
   "execution_count": null,
   "metadata": {},
   "outputs": [],
   "source": [
    "import random\n",
    "from urlib.request import\n",
    "import sys\n",
    "\n",
    "WORD_URL = \"http://learncodethehardway.org/words.txt\"\n",
    "WORDS =[]\n",
    "\n",
    "PHRASES = {\n",
    "    \"class %%%(%%%):\":\n",
    "    \"Make a class named %%% that is-a %%%.\",\n",
    "    \"class %%%(object):\\n\\tdef ___init___(self, ***)\":\n",
    "    \"class %%% has-a ___init__ that take self and *** params.\"\n",
    "    \"class %%%(object):\\n\\tdef ***(self, @@@)\":\n",
    "    \"class %%% has-a function *** that takes self and @@@ params.\"\n",
    "    \"*** = %%%()\":\n",
    "    \"Set ** to an instance of class %%%.\",\n",
    "    \"***.***(@@@)\":\n",
    "    \"From *** get the *** function, call it with params\"\n",
    "    \"***.*** ='***'\":\n",
    "    \"From *** get the *** attribute and set it to '***'\"\n",
    "}\n",
    "\n",
    "if len(sys.atgv) == 2 and sys.argv[1] == \"english\""
   ]
  }
 ],
 "metadata": {
  "kernelspec": {
   "display_name": "Python 3",
   "language": "python",
   "name": "python3"
  },
  "language_info": {
   "codemirror_mode": {
    "name": "ipython",
    "version": 3
   },
   "file_extension": ".py",
   "mimetype": "text/x-python",
   "name": "python",
   "nbconvert_exporter": "python",
   "pygments_lexer": "ipython3",
   "version": "3.6.4"
  }
 },
 "nbformat": 4,
 "nbformat_minor": 2
}
