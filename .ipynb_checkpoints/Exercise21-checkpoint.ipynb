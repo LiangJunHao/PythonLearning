{
 "cells": [
  {
   "cell_type": "markdown",
   "metadata": {},
   "source": [
    "# Exercise 21. Functions Can Return Something"
   ]
  },
  {
   "cell_type": "markdown",
   "metadata": {},
   "source": [
    "## Code"
   ]
  },
  {
   "cell_type": "code",
   "execution_count": 2,
   "metadata": {},
   "outputs": [
    {
     "name": "stdout",
     "output_type": "stream",
     "text": [
      "Let's do some math with just functions!\n",
      "Adding 30 + 5\n",
      "SUBTRACTING 78 - 4\n",
      "MULTIPLE 90 * 2\n",
      "DEVIDING 100 / 2\n",
      "Age: 35, height: 74, weight: 180, iq: 50.0\n",
      "Here is a puzzle.\n",
      "DEVIDING 50.0 / 2\n",
      "MULTIPLE 180 * 25.0\n",
      "SUBTRACTING 74 - 4500.0\n",
      "Adding 35 + -4426.0\n",
      "That become: -4391.0 Can you do it by hand?\n"
     ]
    }
   ],
   "source": [
    "def add(a, b):\n",
    "    print(f\"Adding {a} + {b}\")\n",
    "    return a + b\n",
    "def subtract(a, b):\n",
    "    print(f\"SUBTRACTING {a} - {b}\")\n",
    "    return a - b\n",
    "def multiply(a, b):\n",
    "    print(f\"MULTIPLE {a} * {b}\")\n",
    "    return a * b\n",
    "def devide(a, b):\n",
    "    print(f\"DEVIDING {a} / {b}\")\n",
    "    return a / b\n",
    "\n",
    "print(\"Let's do some math with just functions!\")\n",
    "age = add(30,5)\n",
    "height = subtract(78, 4)\n",
    "weight = multiply (90, 2)\n",
    "iq = devide(100, 2)\n",
    "\n",
    "print(f\"Age: {age}, height: {height}, weight: {weight}, iq: {iq}\")\n",
    "\n",
    "print(\"Here is a puzzle.\")\n",
    "\n",
    "what = add(age, subtract(height, multiply(weight,devide(iq, 2))))\n",
    "\n",
    "print(f\"That become:\", what, \"Can you do it by hand?\")"
   ]
  },
  {
   "cell_type": "markdown",
   "metadata": {},
   "source": [
    "## What You Should See"
   ]
  },
  {
   "cell_type": "markdown",
   "metadata": {},
   "source": [
    "Run the script behind"
   ]
  },
  {
   "cell_type": "markdown",
   "metadata": {},
   "source": [
    "## Note"
   ]
  },
  {
   "cell_type": "markdown",
   "metadata": {},
   "source": [
    "This exercise mainly tell you how to use a function to return the result you want. As we can see, we indentify four functions and they return different value. We use them in the script and at last we combine them together where we get a very complex line (haha)."
   ]
  },
  {
   "cell_type": "markdown",
   "metadata": {},
   "source": [
    "## Study Drill"
   ]
  },
  {
   "cell_type": "markdown",
   "metadata": {},
   "source": [
    "1. If you aren’t really sure what return does, try writing a few of your own functions and have them return some values. You can return anything that you can put to the right of an =.\n",
    "\n",
    "2. At the end of the script is a puzzle. I’m taking the return value of one function and using it as the argument of another function. I’m doing this in a chain so that I’m kind of creating a formula using the functions. It looks really weird, but if you run the script, you can see the results. What you should do is try to figure out the normal formula that would recreate this same set of operations.\n",
    "\n",
    "3. Once you have the formula worked out for the puzzle, get in there and see what happens when you modify the parts of the functions. Try to change it on purpose to make another value.\n",
    "\n",
    "4. Do the inverse. Write a simple formula and use the functions in the same way to calculate it.\n",
    "\n",
    "This exercise might really whack your brain out, but take it slow and easy and treat it like a little game. Figuring out puzzles like this is what makes programming fun, so I’ll be giving you more little problems like this as we go."
   ]
  },
  {
   "cell_type": "markdown",
   "metadata": {},
   "source": [
    "### TIPS"
   ]
  },
  {
   "cell_type": "markdown",
   "metadata": {},
   "source": [
    "If you want to use **input()** to enter you own values, you can use int(input()) for the int number. And the float(input()) makes you enter the floating point. Just try it."
   ]
  }
 ],
 "metadata": {
  "kernelspec": {
   "display_name": "Python 3",
   "language": "python",
   "name": "python3"
  },
  "language_info": {
   "codemirror_mode": {
    "name": "ipython",
    "version": 3
   },
   "file_extension": ".py",
   "mimetype": "text/x-python",
   "name": "python",
   "nbconvert_exporter": "python",
   "pygments_lexer": "ipython3",
   "version": "3.6.4"
  }
 },
 "nbformat": 4,
 "nbformat_minor": 2
}
