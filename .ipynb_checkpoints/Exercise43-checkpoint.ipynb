{
 "cells": [
  {
   "cell_type": "markdown",
   "metadata": {},
   "source": [
    "# Exercise 43. Basic Object-Oriented Analysis and Design"
   ]
  },
  {
   "cell_type": "markdown",
   "metadata": {},
   "source": [
    "## Programming problem"
   ]
  },
  {
   "cell_type": "markdown",
   "metadata": {},
   "source": [
    "The process is as follows:(process)\n",
    "\n",
    "1. Write or draw about the problem.\n",
    "\n",
    "2. Extract key concepts from 1 and research them.\n",
    "\n",
    "3. Create a class hierarchy and object map for the concepts.\n",
    "\n",
    "4. Code the classes and a test to run them.\n",
    "\n",
    "5. Repeat and refine.\n"
   ]
  },
  {
   "cell_type": "code",
   "execution_count": null,
   "metadata": {},
   "outputs": [],
   "source": []
  },
  {
   "cell_type": "markdown",
   "metadata": {},
   "source": [
    "1. Change it! Maybe you hate this game. It could be too violent, or maybe you aren’t into sci-fi. Get the game working, then change it to what you like. This is your computer; you make it do what you want.\n",
    "\n",
    "2. I have a bug in this code. Why is the door lock guessing 11 times?\n",
    "\n",
    "3. Explain how returning the next room works.\n",
    "\n",
    "4. Add cheat codes to the game so you can get past the more difficult rooms. I can do this with two words on one line.\n",
    "\n",
    "5. Go back to my description and analysis, then try to build a small combat system for the hero and the various Gothons he encounters.\n",
    "\n",
    "6. This is actually a small version of something called a “finite state machine.” Read about them. They might not make sense, but try anyway."
   ]
  }
 ],
 "metadata": {
  "kernelspec": {
   "display_name": "Python 3",
   "language": "python",
   "name": "python3"
  },
  "language_info": {
   "codemirror_mode": {
    "name": "ipython",
    "version": 3
   },
   "file_extension": ".py",
   "mimetype": "text/x-python",
   "name": "python",
   "nbconvert_exporter": "python",
   "pygments_lexer": "ipython3",
   "version": "3.6.4"
  }
 },
 "nbformat": 4,
 "nbformat_minor": 2
}
