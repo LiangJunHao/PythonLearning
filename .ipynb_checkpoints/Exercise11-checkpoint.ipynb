{
 "cells": [
  {
   "cell_type": "markdown",
   "metadata": {},
   "source": [
    "# Exercise 11. Asking Questions"
   ]
  },
  {
   "cell_type": "markdown",
   "metadata": {},
   "source": [
    "## Introduction\n",
    "This exercise will intruduce us the input function, which can turn our input into variable."
   ]
  },
  {
   "cell_type": "markdown",
   "metadata": {},
   "source": [
    "## Code"
   ]
  },
  {
   "cell_type": "code",
   "execution_count": 6,
   "metadata": {},
   "outputs": [
    {
     "name": "stdout",
     "output_type": "stream",
     "text": [
      "How old are you? \"6'2\"\n",
      "How tall are you? 1\n",
      "How much do you weight? 2\n",
      "So, you're \"6'2\" years old, 1 tall and 2 heavy.\n"
     ]
    }
   ],
   "source": [
    "print(\"How old are you?\",end =' ')\n",
    "age =input()\n",
    "print(\"How tall are you?\",end = ' ')\n",
    "height = input()\n",
    "print(\"How much do you weight?\",end = ' ')\n",
    "weight= input()\n",
    "\n",
    "print(f\"So, you're {age} years old, {height} tall and {weight} heavy.\")"
   ]
  },
  {
   "cell_type": "markdown",
   "metadata": {},
   "source": [
    "## Study Drills\n",
    "1. Go online and find out what Python’s input does.\n",
    "\n",
    "2. Can you find other ways to use it? Try some of the samples you find.\n",
    "\n",
    "3. Write another “form” like this to ask some other questions."
   ]
  },
  {
   "cell_type": "code",
   "execution_count": null,
   "metadata": {},
   "outputs": [],
   "source": []
  }
 ],
 "metadata": {
  "kernelspec": {
   "display_name": "Python 3",
   "language": "python",
   "name": "python3"
  },
  "language_info": {
   "codemirror_mode": {
    "name": "ipython",
    "version": 3
   },
   "file_extension": ".py",
   "mimetype": "text/x-python",
   "name": "python",
   "nbconvert_exporter": "python",
   "pygments_lexer": "ipython3",
   "version": "3.6.4"
  }
 },
 "nbformat": 4,
 "nbformat_minor": 2
}
