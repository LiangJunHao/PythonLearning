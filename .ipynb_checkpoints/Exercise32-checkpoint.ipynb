{
 "cells": [
  {
   "cell_type": "markdown",
   "metadata": {},
   "source": [
    "# Exercise 32. Loops and Lists"
   ]
  },
  {
   "cell_type": "code",
   "execution_count": 1,
   "metadata": {},
   "outputs": [],
   "source": [
    "hairs = ['brown', 'blond', 'red']\n",
    "eyes = ['brown', 'blue', 'green']\n",
    "weight = [1, 2, 3, 4]"
   ]
  },
  {
   "cell_type": "markdown",
   "metadata": {},
   "source": [
    "## Note"
   ]
  },
  {
   "cell_type": "markdown",
   "metadata": {},
   "source": [
    "The list start with the **\\[**(left bracket). Then you puch each item you want in the list separated by commas, similiar to function arguments. Lastly, end the list with a **\\]** (right bracket) to indicate it's over."
   ]
  },
  {
   "cell_type": "markdown",
   "metadata": {},
   "source": [
    "## Code"
   ]
  },
  {
   "cell_type": "code",
   "execution_count": 8,
   "metadata": {},
   "outputs": [
    {
     "name": "stdout",
     "output_type": "stream",
     "text": [
      "This is count 1\n",
      "This is count 2\n",
      "This is count 3\n",
      "This is count 4\n",
      "This is count 5\n",
      "A fruit of type: apples\n",
      "A fruit of type: oranges\n",
      "A fruit of type: pears\n",
      "A fruit of type: apricots\n",
      "I got 1\n",
      "I got pennies\n",
      "I got 2\n",
      "I got dimes\n",
      "I got 3\n",
      "I got qiarters\n",
      "Adding 0 to the list\n",
      "Adding 1 to the list\n",
      "Adding 2 to the list\n",
      "Adding 3 to the list\n",
      "Adding 4 to the list\n",
      "Adding 5 to the list\n",
      "Element was 0\n",
      "Element was 1\n",
      "Element was 2\n",
      "Element was 3\n",
      "Element was 4\n",
      "Element was 5\n"
     ]
    }
   ],
   "source": [
    "the_count = [1, 2, 3, 4, 5]\n",
    "fruits = ['apples', 'oranges', 'pears', 'apricots']\n",
    "change = [1, 'pennies', 2, 'dimes', 3,'qiarters']\n",
    "\n",
    "for number in the_count:\n",
    "    print(f\"This is count {number}\")#start with one\n",
    "    \n",
    "for fruit in fruits:\n",
    "    print(f\"A fruit of type: {fruit}\")\n",
    "    \n",
    "for i in change:\n",
    "    print(f\"I got {i}\")\n",
    "\n",
    "elements = []\n",
    "\n",
    "for i in range(0,6):\n",
    "    print(f\"Adding {i} to the list\")\n",
    "    elements.append(i)#add data to the last of the list\n",
    "\n",
    "for i in elements:\n",
    "    print(f\"Element was {i}\")"
   ]
  },
  {
   "cell_type": "markdown",
   "metadata": {},
   "source": [
    "## Study Drill"
   ]
  },
  {
   "cell_type": "markdown",
   "metadata": {},
   "source": [
    "1. Take a look at how you used range. Look up the range function to understand it.\n",
    "\n",
    "2. Could you have avoided that for-loop entirely on line 22 and just assigned range(0,6) directly to elements?\n",
    "\n",
    "3. Find the Python documentation on lists and read about them. What other operations can you do to lists besides append?"
   ]
  },
  {
   "cell_type": "markdown",
   "metadata": {},
   "source": [
    "IN Python list is for string and arrays"
   ]
  },
  {
   "cell_type": "markdown",
   "metadata": {},
   "source": [
    "## Common Questions"
   ]
  },
  {
   "cell_type": "markdown",
   "metadata": {},
   "source": [
    "Why is a for-loop able to use a variable that isn’t defined yet? The variable is defined by the for-loop when it starts, initializing it to the current element of the loop iteration each time through."
   ]
  },
  {
   "cell_type": "markdown",
   "metadata": {},
   "source": [
    "Why does for i in range(1, 3): only loop two times instead of three times? The range() function only does numbers from the first to the last, not including the last. So it stops at two, not three, in the preceding. This turns out to be the most common way to do this kind of loop."
   ]
  },
  {
   "cell_type": "markdown",
   "metadata": {},
   "source": [
    "How do you make a 2-dimensional (2D) list? That’s a list in a list, like this: [[1,2,3],[4,5,6]]."
   ]
  },
  {
   "cell_type": "code",
   "execution_count": null,
   "metadata": {},
   "outputs": [],
   "source": []
  }
 ],
 "metadata": {
  "kernelspec": {
   "display_name": "Python 3",
   "language": "python",
   "name": "python3"
  },
  "language_info": {
   "codemirror_mode": {
    "name": "ipython",
    "version": 3
   },
   "file_extension": ".py",
   "mimetype": "text/x-python",
   "name": "python",
   "nbconvert_exporter": "python",
   "pygments_lexer": "ipython3",
   "version": "3.6.4"
  }
 },
 "nbformat": 4,
 "nbformat_minor": 2
}
