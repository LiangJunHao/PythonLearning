{
 "cells": [
  {
   "cell_type": "markdown",
   "metadata": {},
   "source": [
    "# Exercise 19.Functions and Variables"
   ]
  },
  {
   "cell_type": "markdown",
   "metadata": {},
   "source": [
    "## Code"
   ]
  },
  {
   "cell_type": "code",
   "execution_count": 4,
   "metadata": {},
   "outputs": [
    {
     "name": "stdout",
     "output_type": "stream",
     "text": [
      "We can just give the function numbers directly!\n",
      "\n",
      "    You have 20 cheeses!\n",
      "    You have 30 boxes of cracker!\n",
      "    Man thas's enough for a party!\n",
      "    Get a blanket.\n",
      "\n",
      "    \n",
      "OR, we can user variables from our script:\n",
      "\n",
      "    You have 10 cheeses!\n",
      "    You have 50 boxes of cracker!\n",
      "    Man thas's enough for a party!\n",
      "    Get a blanket.\n",
      "\n",
      "    \n",
      "We can even do math inside too:\n",
      "\n",
      "    You have 30 cheeses!\n",
      "    You have 11 boxes of cracker!\n",
      "    Man thas's enough for a party!\n",
      "    Get a blanket.\n",
      "\n",
      "    \n",
      "And we can combine the two, variables and math:\n",
      "\n",
      "    You have 110 cheeses!\n",
      "    You have 1050 boxes of cracker!\n",
      "    Man thas's enough for a party!\n",
      "    Get a blanket.\n",
      "\n",
      "    \n"
     ]
    }
   ],
   "source": [
    "def cheese_and_crackers(cheese_count, boxes_of_cracker):\n",
    "    print(f\"\"\"\n",
    "    You have {cheese_count} cheeses!\n",
    "    You have {boxes_of_cracker} boxes of cracker!\n",
    "    Man thas's enough for a party!\n",
    "    Get a blanket.\\n\n",
    "    \"\"\")\n",
    "print(\"We can just give the function numbers directly!\")\n",
    "cheese_and_crackers(20, 30)\n",
    "\n",
    "print(\"OR, we can user variables from our script:\")\n",
    "amount_of_cheese = 10#global varivale1\n",
    "amount_of_cracker = 50\n",
    "\n",
    "cheese_and_crackers(amount_of_cheese, amount_of_cracker)\n",
    "\n",
    "print(\"We can even do math inside too:\")\n",
    "cheese_and_crackers(10+20, 5+6)\n",
    "\n",
    "print(\"And we can combine the two, variables and math:\")\n",
    "cheese_and_crackers(amount_of_cheese + 100, amount_of_cracker +1000)"
   ]
  },
  {
   "cell_type": "markdown",
   "metadata": {},
   "source": [
    "## What You Should See"
   ]
  },
  {
   "cell_type": "markdown",
   "metadata": {},
   "source": [
    ">$ python3.6 ex19.py\n",
    ">We can just give the function numbers directly:\n",
    "\n",
    ">You have 20 cheeses!\n",
    "\n",
    ">You have 30 boxes of crackers!\n",
    "\n",
    ">Man that's enough for a party!\n",
    "\n",
    ">Get a blanket.\n",
    "\n",
    "\n",
    ">OR, we can use variables from our script:\n",
    "\n",
    ">You have 10 cheeses!\n",
    "\n",
    ">You have 50 boxes of crackers!\n",
    "\n",
    ">Man that's enough for a party!\n",
    "\n",
    ">Get a blanket.\n",
    "\n",
    ">We can even do math inside too:\n",
    "\n",
    ">You have 30 cheeses!\n",
    "\n",
    ">You have 11 boxes of crackers!\n",
    "\n",
    ">Man that's enough for a party!\n",
    "\n",
    ">Get a blanket.\n",
    "\n",
    "\n",
    ">And we can combine the two, variables and math:\n",
    "\n",
    ">You have 110 cheeses!\n",
    "\n",
    ">You have 1050 boxes of crackers!\n",
    "\n",
    ">Man that's enough for a party!\n",
    "\n",
    ">Get a blanket."
   ]
  },
  {
   "cell_type": "markdown",
   "metadata": {},
   "source": [
    "## Stuy Drill"
   ]
  },
  {
   "cell_type": "markdown",
   "metadata": {},
   "source": [
    "1. Go back through the script and type a comment above each line explaining in English what it does.\n",
    "\n",
    "2. Start at the bottom and read each line backward, saying all the important characters.\n",
    "\n",
    "3. Write at least one more function of your own design, and run it 10 different ways."
   ]
  }
 ],
 "metadata": {
  "kernelspec": {
   "display_name": "Python 3",
   "language": "python",
   "name": "python3"
  },
  "language_info": {
   "codemirror_mode": {
    "name": "ipython",
    "version": 3
   },
   "file_extension": ".py",
   "mimetype": "text/x-python",
   "name": "python",
   "nbconvert_exporter": "python",
   "pygments_lexer": "ipython3",
   "version": "3.6.4"
  }
 },
 "nbformat": 4,
 "nbformat_minor": 2
}
