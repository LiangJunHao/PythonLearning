{
 "cells": [
  {
   "cell_type": "markdown",
   "metadata": {},
   "source": [
    "# Exercise 42. Is-A, Has-A, Objects, and Classes"
   ]
  },
  {
   "cell_type": "markdown",
   "metadata": {},
   "source": [
    "## Code"
   ]
  },
  {
   "cell_type": "code",
   "execution_count": 3,
   "metadata": {},
   "outputs": [],
   "source": [
    "class Animal(object):\n",
    "    pass\n",
    "\n",
    "\n",
    "class Dog(Animal):\n",
    "    \n",
    "    def __init__(self, name):\n",
    "        self.name = name\n",
    "        \n",
    "        \n",
    "class Cat(Animal):\n",
    "    \n",
    "    def __init__(self, name):\n",
    "        \n",
    "        self.name= name\n",
    "        \n",
    "class Person(object):\n",
    "    \n",
    "    def __init__(self, name):\n",
    "        \n",
    "        self.name =name\n",
    "        \n",
    "        self.pet =None\n",
    "        \n",
    "        \n",
    "class Employee(Person):\n",
    "    \n",
    "    def __init__(self, name , salary):\n",
    "        \n",
    "        super(Employee, self).__init__(name)\n",
    "        \n",
    "        self.salary =salary\n",
    "        \n",
    "        \n",
    "        \n",
    "class Fish(object):\n",
    "    pass\n",
    "\n",
    "class Salmon(Fish):\n",
    "    pass\n",
    "class Halibut(Fish):\n",
    "    pass\n",
    "\n",
    "\n",
    "rover =Dog(\"rover\")\n",
    "\n",
    "\n",
    "\n",
    "satan = Cat(\"Satan\")\n",
    "\n",
    "mary = Person(\"Mary\")\n",
    "\n",
    "mary.pet = satan\n",
    "\n",
    "frank = Employee(\"Frank\",12000)\n",
    "\n",
    "frank.pet =rover\n",
    "\n",
    "flipper = Fish()\n",
    "\n",
    "crouse = Salmon()\n",
    "\n",
    "harry = Halibut()\n"
   ]
  },
  {
   "cell_type": "markdown",
   "metadata": {},
   "source": [
    "## Study Drill"
   ]
  },
  {
   "cell_type": "markdown",
   "metadata": {},
   "source": [
    "1. Research why Python added this strange object class and what that means.\n",
    "\n",
    "2. Is it possible to use a class like it’s an object?\n",
    "\n",
    "3. Fill out the animals, fish, and people in this exercise with functions that make them do things. See what happens when functions are in a “base class” like Animal versus in, say, Dog.\n",
    "\n",
    "4. Find other people’s code and work out all the is-a and has-a relationships.\n",
    "\n",
    "5. Make some new relationships that are lists and dictionaries so you can also have “has-many” relationships.\n",
    "\n",
    "6. Do you think there’s such thing as an “is-many” relationship? Read about “multiple inheritance,” then avoid it if you can."
   ]
  }
 ],
 "metadata": {
  "kernelspec": {
   "display_name": "Python 3",
   "language": "python",
   "name": "python3"
  },
  "language_info": {
   "codemirror_mode": {
    "name": "ipython",
    "version": 3
   },
   "file_extension": ".py",
   "mimetype": "text/x-python",
   "name": "python",
   "nbconvert_exporter": "python",
   "pygments_lexer": "ipython3",
   "version": "3.6.4"
  }
 },
 "nbformat": 4,
 "nbformat_minor": 2
}
