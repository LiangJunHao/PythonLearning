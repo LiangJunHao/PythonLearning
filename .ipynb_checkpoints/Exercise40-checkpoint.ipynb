{
 "cells": [
  {
   "cell_type": "markdown",
   "metadata": {},
   "source": [
    "# Exercise 40. Modules, Classes, and Objects"
   ]
  },
  {
   "cell_type": "markdown",
   "metadata": {},
   "source": [
    "Python is called an “object-oriented programming language.” This means there is a construct in Python called a class that lets you structure your software in a particular way. Using classes, you can add consistency to your programs so that they can be used in a cleaner way. At least that’s the theory."
   ]
  },
  {
   "cell_type": "code",
   "execution_count": 2,
   "metadata": {},
   "outputs": [
    {
     "name": "stdout",
     "output_type": "stream",
     "text": [
      "I AM APPLES!\n"
     ]
    }
   ],
   "source": [
    "mystuff = {'apple':\"I AM APPLES!\"}\n",
    "print(mystuff['apple'])"
   ]
  },
  {
   "cell_type": "code",
   "execution_count": 3,
   "metadata": {},
   "outputs": [],
   "source": [
    "def apple():\n",
    "    print(\"I AM APPLES\")"
   ]
  },
  {
   "cell_type": "code",
   "execution_count": 5,
   "metadata": {},
   "outputs": [
    {
     "ename": "ModuleNotFoundError",
     "evalue": "No module named 'mystuff'",
     "output_type": "error",
     "traceback": [
      "\u001b[0;31m---------------------------------------------------------------------------\u001b[0m",
      "\u001b[0;31mModuleNotFoundError\u001b[0m                       Traceback (most recent call last)",
      "\u001b[0;32m<ipython-input-5-fc3f9ff9003c>\u001b[0m in \u001b[0;36m<module>\u001b[0;34m()\u001b[0m\n\u001b[0;32m----> 1\u001b[0;31m \u001b[0;32mimport\u001b[0m \u001b[0mmystuff\u001b[0m\u001b[0;34m\u001b[0m\u001b[0m\n\u001b[0m\u001b[1;32m      2\u001b[0m \u001b[0mmystuff\u001b[0m\u001b[0;34m.\u001b[0m\u001b[0mapple\u001b[0m\u001b[0;34m(\u001b[0m\u001b[0;34m)\u001b[0m\u001b[0;34m\u001b[0m\u001b[0m\n",
      "\u001b[0;31mModuleNotFoundError\u001b[0m: No module named 'mystuff'"
     ]
    }
   ],
   "source": [
    "import mystuff\n",
    "mystuff.apple()"
   ]
  },
  {
   "cell_type": "code",
   "execution_count": 6,
   "metadata": {},
   "outputs": [],
   "source": [
    "def apple():\n",
    "    print(\"I AM APPLES!\")\n",
    "    \n",
    "tangerine = \"Living reflection a dream\""
   ]
  },
  {
   "cell_type": "code",
   "execution_count": null,
   "metadata": {},
   "outputs": [],
   "source": [
    "import mystuff\n",
    "mystuff.tangerine"
   ]
  },
  {
   "cell_type": "markdown",
   "metadata": {},
   "source": [
    "That how a module access a function and a variable."
   ]
  },
  {
   "cell_type": "markdown",
   "metadata": {},
   "source": [
    "## Code"
   ]
  },
  {
   "cell_type": "markdown",
   "metadata": {},
   "source": [
    "If I were to create a class just like the mystuff module, I’d do something like this:"
   ]
  },
  {
   "cell_type": "code",
   "execution_count": 9,
   "metadata": {},
   "outputs": [],
   "source": [
    "class Song(object):\n",
    "        def __init__(self):\n",
    "                self.tangerine = \"And now a thousand year\" \n",
    "        def apple(self):\n",
    "            print(\"I AM CLASSY APPLES!\")"
   ]
  },
  {
   "cell_type": "markdown",
   "metadata": {},
   "source": [
    "That looks complicated compared to modules, and there is definitely a lot going on by comparison, but you should be able to make out how this is like a “mini-module” with MyStuff having an apple() function in it. What is probably confusing is the __init__() function and use of self.tangerine for setting the tangerine instance variable."
   ]
  },
  {
   "cell_type": "markdown",
   "metadata": {},
   "source": [
    "## The reason to use classes instead of modules\n",
    "You can take this MyStuff class and use it to craft many of them, millions at a time if you want, and each one won’t interfere with each other. When you import a module there is only one for the entire program unless you do some monster hacks."
   ]
  },
  {
   "cell_type": "markdown",
   "metadata": {},
   "source": [
    "## Object are like import"
   ]
  },
  {
   "cell_type": "markdown",
   "metadata": {},
   "source": [
    "If a class is like a “mini-module,” then there has to be a concept similar to import but for classes. That concept is called “instantiate,” which is just a fancy, obnoxious, overly smart way to say “create.” When you instantiate a class what you get is called an object.\n",
    "\n"
   ]
  },
  {
   "cell_type": "markdown",
   "metadata": {},
   "source": [
    "Here show you how to create avariable using module"
   ]
  },
  {
   "cell_type": "code",
   "execution_count": null,
   "metadata": {},
   "outputs": [],
   "source": [
    "thing = Mystuff()\n",
    "thing.apple()\n",
    "print(thing.tangerine)"
   ]
  },
  {
   "cell_type": "markdown",
   "metadata": {},
   "source": [
    "I now have three way to get things from things"
   ]
  },
  {
   "cell_type": "code",
   "execution_count": null,
   "metadata": {},
   "outputs": [],
   "source": [
    "#dict\n",
    "mystuff['apple']\n",
    "\n",
    "#module\n",
    "mystuff.apple()\n",
    "print(mystuff.tangerine)\n",
    "\n",
    "#class\n",
    "thing = Mystuff()\n",
    "thing.apple\n",
    "print(thing.tangerine)"
   ]
  },
  {
   "cell_type": "markdown",
   "metadata": {},
   "source": [
    "## First Class Example"
   ]
  },
  {
   "cell_type": "code",
   "execution_count": 14,
   "metadata": {},
   "outputs": [
    {
     "name": "stdout",
     "output_type": "stream",
     "text": [
      "Happy birthday to you\n",
      "I don;t want to get sued\n",
      "So I'll stop right there.\n",
      "They really around the family\n",
      "With pcokerts full of shells\n",
      "This is a test\n"
     ]
    }
   ],
   "source": [
    "class Song(object):\n",
    "        def __init__(self, lyrics):\n",
    "                self.lyrics = lyrics\n",
    "\n",
    "        def sing_me_a_song(self):\n",
    "                for line in self.lyrics:\n",
    "                        print(line)\n",
    "\n",
    "new_test = Song(\"This is a test\")                        \n",
    "\n",
    "happy_bday =Song([\"Happy birthday to you\",\n",
    "                \"I don;t want to get sued\",\n",
    "                \"So I'll stop right there.\"])\n",
    "\n",
    "bulls_on_parade = Song([\"They really around the family\",\n",
    "                        \"With pcokerts full of shells\"])\n",
    "\n",
    "happy_bday.sing_me_a_song()\n",
    "bulls_on_parade.sing_me_a_song()\n",
    "new_test.sing_me_a_song()"
   ]
  },
  {
   "cell_type": "markdown",
   "metadata": {},
   "source": [
    "### Question"
   ]
  },
  {
   "cell_type": "markdown",
   "metadata": {},
   "source": [
    "Why do I need self when I make __init__ or other functions for classes? If you don’t have self, then code like cheese = 'Frank' is ambiguous. That code isn’t clear about whether you mean the instance’s cheese attribute or a local variable named cheese. With self.cheese = 'Frank' it’s very clear you mean the instance attribute self.cheese."
   ]
  }
 ],
 "metadata": {
  "kernelspec": {
   "display_name": "Python 3",
   "language": "python",
   "name": "python3"
  },
  "language_info": {
   "codemirror_mode": {
    "name": "ipython",
    "version": 3
   },
   "file_extension": ".py",
   "mimetype": "text/x-python",
   "name": "python",
   "nbconvert_exporter": "python",
   "pygments_lexer": "ipython3",
   "version": "3.6.4"
  }
 },
 "nbformat": 4,
 "nbformat_minor": 2
}
