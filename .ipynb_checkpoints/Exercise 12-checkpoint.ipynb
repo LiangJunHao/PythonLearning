{
 "cells": [
  {
   "cell_type": "markdown",
   "metadata": {},
   "source": [
    "# Exercise 12.Prompting People"
   ]
  },
  {
   "cell_type": "markdown",
   "metadata": {},
   "source": [
    "## Introduction"
   ]
  },
  {
   "cell_type": "code",
   "execution_count": 4,
   "metadata": {},
   "outputs": [
    {
     "name": "stdout",
     "output_type": "stream",
     "text": [
      "Name? 213\n",
      "How old are you? 12\n",
      "How tall are you? 2\n",
      "How much do you weight? 12\n",
      "So, you are 12 years old, 2 tall and 12 heavy\n"
     ]
    }
   ],
   "source": [
    "y = input (\"Name? \")\n",
    "age = input (\"How old are you? \")\n",
    "height = input(\"How tall are you? \")\n",
    "weight = input(\"How much do you weight? \")\n",
    "print(f\"So, you are {age} years old, {height} tall and {weight} heavy\")"
   ]
  },
  {
   "cell_type": "markdown",
   "metadata": {},
   "source": [
    "## What You Should See"
   ]
  },
  {
   "cell_type": "markdown",
   "metadata": {},
   "source": [
    "How old are you? 38\n",
    "How tall are you? 6'2\"\n",
    "How much do you weigh? 180lbs\n",
    "So, you're 38 old, 6'2\" tall and 180lbs heavy."
   ]
  },
  {
   "cell_type": "markdown",
   "metadata": {},
   "source": [
    "## Study Drills"
   ]
  },
  {
   "cell_type": "markdown",
   "metadata": {},
   "source": [
    "1. In Terminal, where you normally run python3.6 to run your scripts, type pydoc input. Read what it says. If you’re on Windows try python3.6 -m pydoc input instead.\n",
    "\n",
    "2. Get out of pydoc by typing q to quit.\n",
    "\n",
    "3. Look online for what the pydoc command does.\n",
    "\n",
    "4. Use pydoc to also read about open, file, os, and sys. It’s alright if you do not understand those; just read through and take notes about interesting things."
   ]
  },
  {
   "cell_type": "code",
   "execution_count": 5,
   "metadata": {},
   "outputs": [
    {
     "name": "stdout",
     "output_type": "stream",
     "text": [
      "12\n",
      "How old are you?  12\n"
     ]
    }
   ],
   "source": [
    "print(\"How old are you? \",input())"
   ]
  },
  {
   "cell_type": "code",
   "execution_count": null,
   "metadata": {},
   "outputs": [],
   "source": []
  }
 ],
 "metadata": {
  "kernelspec": {
   "display_name": "Python 3",
   "language": "python",
   "name": "python3"
  },
  "language_info": {
   "codemirror_mode": {
    "name": "ipython",
    "version": 3
   },
   "file_extension": ".py",
   "mimetype": "text/x-python",
   "name": "python",
   "nbconvert_exporter": "python",
   "pygments_lexer": "ipython3",
   "version": "3.6.4"
  }
 },
 "nbformat": 4,
 "nbformat_minor": 2
}
