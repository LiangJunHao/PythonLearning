{
 "cells": [
  {
   "cell_type": "markdown",
   "metadata": {},
   "source": [
    "# Exercise 10. What Was That (backslash) ?"
   ]
  },
  {
   "cell_type": "markdown",
   "metadata": {},
   "source": [
    "## Description\n",
    "The Exercise 9 show us how to make a string that goes across multiple lines. The first way we can use the characters \\n (backslash n). The second way we use the trible double-quote(\"\"\" \"\"\")."
   ]
  },
  {
   "cell_type": "markdown",
   "metadata": {},
   "source": [
    "## Code"
   ]
  },
  {
   "cell_type": "code",
   "execution_count": 4,
   "metadata": {},
   "outputs": [
    {
     "name": "stdout",
     "output_type": "stream",
     "text": [
      "I am 6'2\" tall.\n",
      "I am 6'2\" tall\n",
      "\n",
      "\n",
      "\t I am tabbed in.\n",
      "I'm split \n",
      " on a line.\n",
      "I'm \\ a \\ cat.\n",
      "\n",
      "I'll do a list:\n",
      "\t* cat food\n",
      "\t* Fishies\n",
      "\t* Catnip\n",
      "\t* Grass\n",
      "\n"
     ]
    }
   ],
   "source": [
    "print(\"I am 6'2\\\" tall.\")#this print function print out a \" after the number '2'\n",
    "print('I am 6\\'2\" tall')#In this line, I use the single-quote to include the message I want to print out. Consequently, I use \\' to print the single-quote.\n",
    "tabby_cat = \"\\t I am tabbed in.\"\n",
    "presian_cat = \"I'm split \\n on a line.\"\n",
    "backslash_cat =\"I'm \\\\ a \\\\ cat.\"\n",
    "\n",
    "fat_cat=\"\"\"\n",
    "I'll do a list:\n",
    "\\t* cat food\n",
    "\\t* Fishies\n",
    "\\t* Catnip\\n\\t* Grass\n",
    "\"\"\"\n",
    "print(\"\\n\")\n",
    "print(tabby_cat)\n",
    "print(presian_cat)\n",
    "print(backslash_cat)\n",
    "print(fat_cat)\n"
   ]
  },
  {
   "cell_type": "markdown",
   "metadata": {},
   "source": [
    "## ESCAPE SEQUENCES\n"
   ]
  },
  {
   "cell_type": "code",
   "execution_count": null,
   "metadata": {},
   "outputs": [],
   "source": [
    "from IPython.display import Image\n",
    "Image(filename=\"img/python1.\")"
   ]
  }
 ],
 "metadata": {
  "kernelspec": {
   "display_name": "Python 3",
   "language": "python",
   "name": "python3"
  },
  "language_info": {
   "codemirror_mode": {
    "name": "ipython",
    "version": 3
   },
   "file_extension": ".py",
   "mimetype": "text/x-python",
   "name": "python",
   "nbconvert_exporter": "python",
   "pygments_lexer": "ipython3",
   "version": "3.6.4"
  }
 },
 "nbformat": 4,
 "nbformat_minor": 2
}
