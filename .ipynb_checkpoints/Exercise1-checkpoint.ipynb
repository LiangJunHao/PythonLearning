{
 "cells": [
  {
   "cell_type": "markdown",
   "metadata": {},
   "source": [
    "# Exercise 1. A Good First Program"
   ]
  },
  {
   "cell_type": "markdown",
   "metadata": {},
   "source": [
    "### A BEGINNING PROGRAMMER NEEDS TO KNOW:\n",
    "    Reading and Writing\n",
    "    Attention to Deail\n",
    "    Spotting Differences\n",
    "    Ask, Don’t Stare\n",
    "    Do Not Copy-Paste\n",
    "    Using the Included Videos"
   ]
  },
  {
   "cell_type": "markdown",
   "metadata": {},
   "source": [
    "# Anything worth doing is difficult at first"
   ]
  },
  {
   "cell_type": "markdown",
   "metadata": {},
   "source": [
    "### First Program"
   ]
  },
  {
   "cell_type": "code",
   "execution_count": 3,
   "metadata": {},
   "outputs": [
    {
     "name": "stdout",
     "output_type": "stream",
     "text": [
      "Hello World\n",
      "Hello again\n",
      "I like typing this\n",
      "This is fun.\n",
      "Yay! Printing.\n",
      "I'd much rather you 'not'.\n",
      "I \"said\" do not touch this.\n"
     ]
    }
   ],
   "source": [
    "## %%writefile ex1.py\n",
    "print(\"Hello World\")\n",
    "print(\"Hello again\")\n",
    "print(\"I like typing this\")\n",
    "print(\"This is fun.\")\n",
    "print('Yay! Printing.')\n",
    "print(\"I'd much rather you 'not'.\")\n",
    "print('I \"said\" do not touch this.')"
   ]
  },
  {
   "cell_type": "markdown",
   "metadata": {},
   "source": [
    "# Exercise1\n",
    "    1. Make your script print another line.\n",
    "Answer:use another print or use \\n.\n",
    "\n",
    "    2. Make your script print only one of the lines.\n",
    "Answer:Add \", end = '' \" at the end of the print\n",
    "    \n",
    "    3. Put a # (octothorpe) character at the beginning of a line. What did it do? Try to find out what this character does.\n",
    "Answer:It will be translated into a comment"
   ]
  },
  {
   "cell_type": "code",
   "execution_count": 9,
   "metadata": {},
   "outputs": [
    {
     "name": "stdout",
     "output_type": "stream",
     "text": [
      "_______________________Hello World, I am junhao\n",
      "----------------------\n"
     ]
    }
   ],
   "source": [
    "print(\"_\"*23,end = '')\n",
    "print (\"Hello World, I am junhao\")\n",
    "print (\"----------------------\")\n",
    "#print (\"Hello World\")"
   ]
  }
 ],
 "metadata": {
  "kernelspec": {
   "display_name": "Python 3",
   "language": "python",
   "name": "python3"
  },
  "language_info": {
   "codemirror_mode": {
    "name": "ipython",
    "version": 3
   },
   "file_extension": ".py",
   "mimetype": "text/x-python",
   "name": "python",
   "nbconvert_exporter": "python",
   "pygments_lexer": "ipython3",
   "version": "3.6.4"
  }
 },
 "nbformat": 4,
 "nbformat_minor": 2
}
