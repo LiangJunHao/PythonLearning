{
 "cells": [
  {
   "cell_type": "markdown",
   "metadata": {},
   "source": [
    "# Exercise 25.Even More Practic"
   ]
  },
  {
   "cell_type": "markdown",
   "metadata": {},
   "source": [
    "## Code"
   ]
  },
  {
   "cell_type": "code",
   "execution_count": null,
   "metadata": {},
   "outputs": [],
   "source": [
    "def break_word(stuff):\n",
    "    words = stuff.split(' ')\n",
    "    return words\n",
    "\n",
    "def sort_words(words):\n",
    "    return sorted(words)\n",
    "\n",
    "def print_first_word(words):\n",
    "    word = words.pop(0)\n",
    "    print(word)\n",
    "\n",
    "def print_last_word(words):\n",
    "    word = words.pop(-1)\n",
    "    print(word)\n",
    "\n",
    "def sort_sentence(sentence):\n",
    "    words = break_word(sentence)\n",
    "    return sort_words(words)\n",
    "\n",
    "def print_first_and_last(sentence):\n",
    "    words = brenk_words(sentence)\n",
    "    print_first_word(words)\n",
    "    print_last_word(words)\n",
    "    \n",
    "def print_first_and_last_sorted(sentence):\n",
    "    words = sort_sentence(sentence)\n",
    "    print_first_word(words)\n",
    "    print_last_word(words)"
   ]
  }
 ],
 "metadata": {
  "kernelspec": {
   "display_name": "Python 3",
   "language": "python",
   "name": "python3"
  },
  "language_info": {
   "codemirror_mode": {
    "name": "ipython",
    "version": 3
   },
   "file_extension": ".py",
   "mimetype": "text/x-python",
   "name": "python",
   "nbconvert_exporter": "python",
   "pygments_lexer": "ipython3",
   "version": "3.6.4"
  }
 },
 "nbformat": 4,
 "nbformat_minor": 2
}
