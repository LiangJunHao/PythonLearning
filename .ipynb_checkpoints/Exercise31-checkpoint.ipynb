{
 "cells": [
  {
   "cell_type": "markdown",
   "metadata": {},
   "source": [
    "# Exercise31. Making Decisions"
   ]
  },
  {
   "cell_type": "markdown",
   "metadata": {},
   "source": [
    "branch"
   ]
  },
  {
   "cell_type": "markdown",
   "metadata": {},
   "source": [
    "Now that we have **if**,**else** and **elif**, wei can start to make scripts that decide things."
   ]
  },
  {
   "cell_type": "markdown",
   "metadata": {},
   "source": [
    "# Code"
   ]
  },
  {
   "cell_type": "code",
   "execution_count": 4,
   "metadata": {},
   "outputs": [
    {
     "name": "stdout",
     "output_type": "stream",
     "text": [
      "You enter a dark room with two doors.\n",
      "Do you go through door #1 or dor #2\n",
      "> 3\n",
      "You stumble around and fall on a knife and die. Good job!\n"
     ]
    }
   ],
   "source": [
    "print(\"\"\"You enter a dark room with two doors.\n",
    "Do you go through door #1 or dor #2\"\"\")\n",
    "\n",
    "door = input(\"> \")\n",
    "\n",
    "if door ==\"1\":\n",
    "    print(\"There is a gaint bear here eating a cheese cake.\")\n",
    "    print(\"What will you do?\")\n",
    "    print(\"1. Take the cake.\")\n",
    "    print(\"2. Scream at the bear.\")\n",
    "\n",
    "    bear = input(\"> \")\n",
    "    \n",
    "    if bear == \"1\":\n",
    "        print(\"The bear eats your face off. Good job!\")\n",
    "    elif bear == \"2\":\n",
    "        print(\"The bear eats your legs off. Good job!\")\n",
    "    else:\n",
    "        print(f\"Well, doing {bear} is probably better.\")\n",
    "        print(\"Bear runs away.\")\n",
    "\n",
    "elif door ==\"2\":\n",
    "        print(\"You stare into the endless abyss at Cthulhu's retina.\")\n",
    "        print(\"1. Blueberries.\")\n",
    "        print(\"2. Yellow jacket clothespins.\")\n",
    "        print(\"3. Understanding revolvers yelling melodies.\")\n",
    "        insanity = input(\"> \")\n",
    "        \n",
    "        if insanity ==\"1\" or insanity ==\"2\":\n",
    "            print(\"Your body survived powered by a mind of jello.\")\n",
    "            print(\"Good job!\")\n",
    "        else:\n",
    "            print(\"The insanity rots your eyes into a pool of muck.\")\n",
    "            print(\"Good job!\")\n",
    "else:\n",
    "    print(\"You stumble around and fall on a knife and die. Good job!\")"
   ]
  },
  {
   "cell_type": "markdown",
   "metadata": {},
   "source": [
    "## Study Drills"
   ]
  },
  {
   "cell_type": "markdown",
   "metadata": {},
   "source": [
    "1. Make new parts of the game and change what decisions people can make. Expand the game out as much as you can before it gets ridiculous.\n",
    "\n",
    "2. Write a completely new game. Maybe you don’t like this one, so make your own. This is your computer; do what you want."
   ]
  },
  {
   "cell_type": "markdown",
   "metadata": {},
   "source": [
    "## Note"
   ]
  },
  {
   "cell_type": "markdown",
   "metadata": {},
   "source": [
    "What if I wanted more options in the if-elif-else blocks? Add more elif blocks for each possible choice."
   ]
  }
 ],
 "metadata": {
  "kernelspec": {
   "display_name": "Python 3",
   "language": "python",
   "name": "python3"
  },
  "language_info": {
   "codemirror_mode": {
    "name": "ipython",
    "version": 3
   },
   "file_extension": ".py",
   "mimetype": "text/x-python",
   "name": "python",
   "nbconvert_exporter": "python",
   "pygments_lexer": "ipython3",
   "version": "3.6.4"
  }
 },
 "nbformat": 4,
 "nbformat_minor": 2
}
