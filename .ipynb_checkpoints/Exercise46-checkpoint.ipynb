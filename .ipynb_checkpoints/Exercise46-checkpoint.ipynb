{
 "cells": [
  {
   "cell_type": "markdown",
   "metadata": {},
   "source": [
    "# Exercise 46. A Project Skeleton"
   ]
  },
  {
   "cell_type": "markdown",
   "metadata": {},
   "source": [
    "## LINUX SETUP"
   ]
  },
  {
   "cell_type": "markdown",
   "metadata": {},
   "source": [
    "Before you can begin this exercise you need to install some software for Python by using a tool called pip3.6 (or just pip) to install new modules"
   ]
  },
  {
   "cell_type": "markdown",
   "metadata": {},
   "source": [
    "    $ pip3.6 list\n",
    "    \n",
    "    pip (9.0.1)\n",
    "    \n",
    "    setuptools (28.8.0)\n",
    "    \n",
    "    $"
   ]
  },
  {
   "cell_type": "markdown",
   "metadata": {},
   "source": [
    "This is for Linux or macOS systems. If you’re on Linux/macOS, you’ll want to run the following command to make sure you use the correct virtualenv:"
   ]
  },
  {
   "cell_type": "markdown",
   "metadata": {},
   "source": [
    "whereis virtualenv\n",
    "\n",
    "/Library/Frameworks/Python.framework/Versions/3.6/bin/virtualenv"
   ]
  },
  {
   "cell_type": "markdown",
   "metadata": {},
   "source": [
    "$ mkdir ~/.venvs\n",
    "\n",
    "$ virtualenv ––system–site–packages ~/.venvs/lpthw\n",
    "\n",
    "$ . ~/.venvs/lpthw/bin/activate\n",
    "\n",
    "(lpthw) $"
   ]
  },
  {
   "cell_type": "markdown",
   "metadata": {},
   "source": [
    "Here’s what’s going on line by line:\n",
    "\n",
    "1. You create a directory called .venvs in your HOME ~/ to store all your virtual environments.\n",
    "\n",
    "2. You run virtualenv and tell it to include the system site packages (--system-site-packages), then instruct it to build the virtualenv in ~/.venvs/lpthw.\n",
    "\n",
    "3. You then “source” the lpthw virtual environment by using the . operator in bash, followed by the ~/.venvs/lpthw/bin/activate script.\n",
    "\n",
    "4. Finally, your prompt changes to include (lpthw), so you know that you’re using that virtual environment.\n",
    "\n",
    "Now you can see where things are installed:"
   ]
  },
  {
   "cell_type": "markdown",
   "metadata": {},
   "source": [
    "## Creating the Skeleton Project Directory"
   ]
  },
  {
   "cell_type": "markdown",
   "metadata": {},
   "source": [
    "        $ mkdir projects\n",
    "    $ cd projects/        \n",
    "        $ mkdir skeleton\n",
    "    $ cd skeleton\n",
    "        $ mkdir bin NAME tests docs"
   ]
  },
  {
   "cell_type": "markdown",
   "metadata": {},
   "source": [
    "    I use a directory named projects to store all the various things I’m working on. Inside that directory I have my skeleton directory that I put the basis of my projects into. The directory NAME will be renamed to whatever you are calling your project’s main module when you use the skeleton.\n",
    "\n",
    "    Next, we need to set up some initial files. Here’s how you do that on Linux/macOS:"
   ]
  },
  {
   "cell_type": "markdown",
   "metadata": {},
   "source": [
    "        $ touch NAME/__init__.py\n",
    "    $ touch tests/__init__.py"
   ]
  },
  {
   "cell_type": "markdown",
   "metadata": {},
   "source": [
    "    That creates an empty Python module directory we can put our code in. Then we need to create a setup.py file we can use to install our project later if we want:"
   ]
  },
  {
   "cell_type": "code",
   "execution_count": null,
   "metadata": {},
   "outputs": [],
   "source": [
    "try:\n",
    "    from setuptools import setup\n",
    "except ImportError:\n",
    "    from distutils.core import setup\n",
    "    \n",
    "config =  {\n",
    "        'description': 'My Project',\n",
    "        'author': 'My Name',\n",
    "        'url': 'URL to get it at.',\n",
    "        'download_url': 'Where to download it.',\n",
    "        'author_email': 'My email.',\n",
    "        'version': '0.1',\n",
    "        'install_requires': ['nose'],\n",
    "        'packages': ['NAME'],\n",
    "        'scripts': [],\n",
    "        'name': 'projectname'\n",
    "    }\n",
    "\n",
    "setup(**config)"
   ]
  },
  {
   "cell_type": "markdown",
   "metadata": {},
   "source": [
    "## Using the Skeleton"
   ]
  },
  {
   "cell_type": "markdown",
   "metadata": {},
   "source": [
    "    You are now done with most of your yak shaving. Whenever you want to start a new project, just do this:\n",
    "\n",
    "    1. Make a copy of your skeleton directory. Name it after your new project.\n",
    "\n",
    "    2. Rename (move) the NAME directory to be the name of your project or whatever you want to call your root module.\n",
    "\n",
    "    3. Edit your setup.py to have all the information for your project.\n",
    "\n",
    "    4. Rename tests/NAME_tests.py to also have your module name.\n",
    "\n",
    "    5. Double check it’s all working by using nosetests again.\n",
    "\n",
    "    6. Start coding."
   ]
  },
  {
   "cell_type": "markdown",
   "metadata": {},
   "source": [
    "\n",
    "## Required Quiz\n",
    "\n",
    "    This exercise doesn’t have Study Drills; instead, here’s quiz you should complete:\n",
    "\n",
    "    1. Read about how to use all of the things you installed.\n",
    "\n",
    "    2. Read about the setup.py file and all it has to offer. Warning: It is not a very well-written piece of software, so it will be very strange to use.\n",
    "\n",
    "    3. Make a project and start putting code into the module, then get the module working.\n",
    "\n",
    "    4. Put a script in the bin directory that you can run. Read about how you can make a Python script that’s runnable for your system.\n",
    "\n",
    "    5. Mention the bin script you created in your setup.py so that it gets installed.\n",
    "\n",
    "    6. Use your setup.py to install your own module and make sure it works, then use pip to uninstall it."
   ]
  }
 ],
 "metadata": {
  "kernelspec": {
   "display_name": "Python 3",
   "language": "python",
   "name": "python3"
  },
  "language_info": {
   "codemirror_mode": {
    "name": "ipython",
    "version": 3
   },
   "file_extension": ".py",
   "mimetype": "text/x-python",
   "name": "python",
   "nbconvert_exporter": "python",
   "pygments_lexer": "ipython3",
   "version": "3.6.4"
  }
 },
 "nbformat": 4,
 "nbformat_minor": 2
}
