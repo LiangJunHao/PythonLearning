{
 "cells": [
  {
   "cell_type": "markdown",
   "metadata": {},
   "source": [
    "# Exercise 37.Symbol Review"
   ]
  },
  {
   "cell_type": "markdown",
   "metadata": {},
   "source": [
    "1. Functions and what they do.\n",
    "\n",
    "2. Where each variable is first given a value.\n",
    "\n",
    "3. Any variables with the same names in different parts of the program. These may be trouble later.\n",
    "\n",
    "4. Any if-statements without else clauses. Are they right?\n",
    "\n",
    "5. Any while-loops that might not end.\n",
    "\n",
    "6. Any parts of code that you can’t understand for whatever reason."
   ]
  },
  {
   "cell_type": "markdown",
   "metadata": {},
   "source": [
    "## Study Drill"
   ]
  },
  {
   "cell_type": "markdown",
   "metadata": {},
   "source": [
    "1. Find out what a “flow chart” is and draw a few.\n",
    "\n",
    "2. If you find errors in code you are reading, try to fix them, and send the author your changes.\n",
    "\n",
    "3. Another technique for when you are not using paper is to put comments with your notes in the code. Sometimes, these could become the actual comments to help the next person."
   ]
  },
  {
   "cell_type": "markdown",
   "metadata": {},
   "source": [
    "What does this book means ? I can just take a memory exercise here?"
   ]
  }
 ],
 "metadata": {
  "kernelspec": {
   "display_name": "Python 3",
   "language": "python",
   "name": "python3"
  },
  "language_info": {
   "codemirror_mode": {
    "name": "ipython",
    "version": 3
   },
   "file_extension": ".py",
   "mimetype": "text/x-python",
   "name": "python",
   "nbconvert_exporter": "python",
   "pygments_lexer": "ipython3",
   "version": "3.6.4"
  }
 },
 "nbformat": 4,
 "nbformat_minor": 2
}
