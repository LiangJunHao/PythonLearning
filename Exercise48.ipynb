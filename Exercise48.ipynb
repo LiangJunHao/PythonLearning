{
 "cells": [
  {
   "cell_type": "markdown",
   "metadata": {},
   "source": [
    "\n",
    "# Exercise 48.Advanced User Input"
   ]
  },
  {
   "cell_type": "markdown",
   "metadata": {},
   "source": [
    "    In past games you handled the user’s input by simply expecting set strings"
   ]
  },
  {
   "cell_type": "markdown",
   "metadata": {},
   "source": [
    "     What we need is a device that lets users type phrases in various ways and then convert that into something the computer understands. For example, we’d like to have all of these phrases work the same:"
   ]
  },
  {
   "cell_type": "markdown",
   "metadata": {},
   "source": [
    "    • open door\n",
    "\n",
    "    • open the door\n",
    "\n",
    "    • go THROUGH the door\n",
    "\n",
    "    • punch bear\n",
    "\n",
    "    • Punch The Bear in the FACE"
   ]
  },
  {
   "cell_type": "markdown",
   "metadata": {},
   "source": [
    "    It should be alright for a user to write something a lot like English for your game and have your game figure out what it means. To do this, we’re going to write a module that does just that. "
   ]
  },
  {
   "cell_type": "markdown",
   "metadata": {},
   "source": [
    "## Our Game Lexicon"
   ]
  },
  {
   "cell_type": "markdown",
   "metadata": {},
   "source": [
    "• Direction words: north, south, east, west, down, up, left, right, back\n",
    "\n",
    "• Verbs: go, stop, kill, eat\n",
    "\n",
    "• Stop words: the, in, of, from, at, it\n",
    "\n",
    "• Nouns: door, bear, princess, cabinet\n",
    "\n",
    "• Numbers: any string of 0 through 9 characters"
   ]
  },
  {
   "cell_type": "markdown",
   "metadata": {},
   "source": [
    "### lexicon Tuples"
   ]
  },
  {
   "cell_type": "markdown",
   "metadata": {},
   "source": [
    "    Once we know how to break up a sentence into words, we just have to go through the list of words and figure out what “type” they are."
   ]
  },
  {
   "cell_type": "markdown",
   "metadata": {},
   "source": [
    "## Scanning Input"
   ]
  },
  {
   "cell_type": "markdown",
   "metadata": {},
   "source": [
    "    Now you are ready to write your scanner. This scanner will take a string of raw input from a user and return a sentence that’s composed of a list of tuples with the (TOKEN, WORD) pairings. If a word isn’t part of the lexicon, then it should still return the WORD but set the TOKEN to an error token. These error tokens will tell users they messed up."
   ]
  },
  {
   "cell_type": "markdown",
   "metadata": {},
   "source": [
    "## Exceptions and Numbers"
   ]
  },
  {
   "cell_type": "markdown",
   "metadata": {},
   "source": [
    "    An exception is an error that you get from some function you may have run. What happens is your function “raises” an exception when it encounters an error, then you have to handle that exception. "
   ]
  },
  {
   "cell_type": "markdown",
   "metadata": {},
   "source": [
    "You deal with an exception by using the **try** and **except** keywords"
   ]
  },
  {
   "cell_type": "code",
   "execution_count": 9,
   "metadata": {},
   "outputs": [],
   "source": [
    "def convert_number(s):\n",
    "    try:\n",
    "        return int(s)\n",
    "    except ValueError:\n",
    "        return None\n",
    "    \n",
    "convert_number(\"r\")"
   ]
  },
  {
   "cell_type": "markdown",
   "metadata": {},
   "source": [
    "## Study Drill"
   ]
  },
  {
   "cell_type": "markdown",
   "metadata": {},
   "source": [
    "1. Improve the unit test to make sure you test more of the lexicon.\n",
    "\n",
    "2. Add to the lexicon and then update the unit test.\n",
    "\n",
    "3. Make sure your scanner handles user input in any capitalization and case. Update the test to make sure this actually works.\n",
    "\n",
    "4. Find another way to convert the number.\n",
    "\n",
    "5. My solution was 37 lines long. Is yours longer? Shorter?"
   ]
  },
  {
   "cell_type": "code",
   "execution_count": null,
   "metadata": {},
   "outputs": [],
   "source": []
  }
 ],
 "metadata": {
  "kernelspec": {
   "display_name": "Python 3",
   "language": "python",
   "name": "python3"
  },
  "language_info": {
   "codemirror_mode": {
    "name": "ipython",
    "version": 3
   },
   "file_extension": ".py",
   "mimetype": "text/x-python",
   "name": "python",
   "nbconvert_exporter": "python",
   "pygments_lexer": "ipython3",
   "version": "3.6.4"
  }
 },
 "nbformat": 4,
 "nbformat_minor": 2
}
