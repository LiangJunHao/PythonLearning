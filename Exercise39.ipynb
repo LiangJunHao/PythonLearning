{
 "cells": [
  {
   "cell_type": "markdown",
   "metadata": {},
   "source": [
    "# Exercise 39.Dictionaries, Oh Lovely Dictionaries"
   ]
  },
  {
   "cell_type": "markdown",
   "metadata": {},
   "source": [
    "### Dictionaries is an data sructure in Python. A Dictorary is a way to store just like a list"
   ]
  },
  {
   "cell_type": "code",
   "execution_count": 30,
   "metadata": {},
   "outputs": [
    {
     "name": "stdout",
     "output_type": "stream",
     "text": [
      "zed\n",
      "39\n",
      "74\n",
      "1\n",
      "Woe\n",
      "Neato\n",
      "acs\n",
      "{'name': 'zed', 'age': 39, 'height': 74, 'city': 'SF', 1: 'Woe', 2: 'Neato', 'name2': 'Junhao'}\n",
      "{'name': 'zed', 'age': 39, 'height': 74, 'name2': 'Junhao'}\n"
     ]
    }
   ],
   "source": [
    "stuff = {'name':'zed', 'age':39, 'height':74}\n",
    "new = []\n",
    "old = {}\n",
    "print(stuff['name'])\n",
    "print(stuff['age'])\n",
    "print(stuff['height'])\n",
    "stuff['city']=\"SF\"\n",
    "new.append(\"1\")\n",
    "print(new[0])\n",
    "stuff[1] =\"Woe\"\n",
    "stuff[2] =\"Neato\"\n",
    "stuff['name2']=\"Junhao\"\n",
    "old[1] = \"acs\"\n",
    "print(stuff[1])\n",
    "print(stuff[2])\n",
    "print(old[1])\n",
    "print(stuff)\n",
    "del stuff['city']\n",
    "del stuff[1]\n",
    "del stuff[2]\n",
    "print(stuff)"
   ]
  },
  {
   "cell_type": "code",
   "execution_count": 65,
   "metadata": {},
   "outputs": [
    {
     "name": "stdout",
     "output_type": "stream",
     "text": [
      "OR\n",
      "San Francisco\n",
      "--------------------\n",
      "NY State has: New York\n",
      "NY State has: Portland\n",
      "--------------------\n",
      "Michigan has: Detroit\n",
      "Florida has : Jacksonville\n",
      "--------------------\n",
      "dict_items([('Oregon', 'OR'), ('Florida', 'FL'), ('Califoria', 'CA'), ('New York', 'NY'), ('Michigan', 'MI')])\n",
      "[('Oregon', 'OR'), ('Florida', 'FL'), ('Califoria', 'CA'), ('New York', 'NY'), ('Michigan', 'MI')]\n",
      "Oregon is abbreviated OR\n",
      "Florida is abbreviated FL\n",
      "Califoria is abbreviated CA\n",
      "New York is abbreviated NY\n",
      "Michigan is abbreviated MI\n",
      "--------------------\n",
      "CA has the city San Francisco\n",
      "and has city San Francisco\n",
      "MI has the city Detroit\n",
      "and has city Detroit\n",
      "FL has the city Jacksonville\n",
      "and has city Jacksonville\n",
      "NY has the city New York\n",
      "and has city New York\n",
      "OR has the city Portland\n",
      "and has city Portland\n",
      "--------------------\n",
      "sorry, no Texas\n",
      "The city for the state 'Tx' is: Does Not Eixst\n"
     ]
    }
   ],
   "source": [
    "states = {\n",
    "    'Oregon':'OR',\n",
    "    'Florida':'FL',\n",
    "    'Califoria':'CA',\n",
    "    'New York': 'NY',\n",
    "    'Michigan': 'MI'\n",
    "}\n",
    "print(states['Oregon'])\n",
    "\n",
    "cities = {\n",
    "    'CA':'San Francisco',\n",
    "    'MI': 'Detroit',\n",
    "    'FL': 'Jacksonville'\n",
    "}\n",
    "\n",
    "print(cities[states['Califoria']])\n",
    "\n",
    "cities['NY']= \"New York\"\n",
    "cities['OR']= 'Portland'\n",
    "\n",
    "print('-'*20)\n",
    "print(\"NY State has:\",cities['NY'])\n",
    "print(\"NY State has:\",cities['OR'])\n",
    "\n",
    "print('-'*20)\n",
    "print(\"Michigan has:\",cities[states['Michigan']])\n",
    "print(\"Florida has :\",cities[states['Florida']])\n",
    "\n",
    "print('-'*20)\n",
    "print(states.items())\n",
    "print(list(states.items()))\n",
    "for state, abbrev in list(states.items()):\n",
    "    print(f\"{state} is abbreviated {abbrev}\")\n",
    "\n",
    "print('-'*20)\n",
    "for abbrev, city in list(cities.items()):\n",
    "    print(f\"{abbrev} has the city {city}\" )\n",
    "    print(f\"and has city {cities[abbrev]}\" )\n",
    "    \n",
    "print('-'*20)\n",
    "\n",
    "state = states.get('Texas')\n",
    "\n",
    "if  not state:\n",
    "    print(\"sorry, no Texas\")\n",
    "\n",
    "##cities['TX']= \"12\"\n",
    "city = cities.get('TX', \"Does Not Eixst\")#return second value if the first\n",
    "#parament does not exist\n",
    "print(f\"The city for the state 'Tx' is: {city}\")"
   ]
  },
  {
   "cell_type": "markdown",
   "metadata": {},
   "source": [
    "## What Should Yous see"
   ]
  },
  {
   "cell_type": "code",
   "execution_count": null,
   "metadata": {},
   "outputs": [],
   "source": []
  },
  {
   "cell_type": "markdown",
   "metadata": {},
   "source": [
    "## Study Drill"
   ]
  },
  {
   "cell_type": "markdown",
   "metadata": {},
   "source": [
    "1. Do this same kind of mapping with cities and states/regions in your country or some other country.\n",
    "\n",
    "2. Find the Python documentation for dictionaries and try to do even more things to them.\n",
    "\n",
    "3. Find out what you can’t do with dictionaries. A big one is that they do not have order, so try playing with that."
   ]
  },
  {
   "cell_type": "markdown",
   "metadata": {},
   "source": [
    "## Note"
   ]
  },
  {
   "cell_type": "markdown",
   "metadata": {},
   "source": [
    "A list is for an ordered list of items. A dictionary (or dict) is for matching some items (called “keys”) to other items (called “values”)."
   ]
  }
 ],
 "metadata": {
  "kernelspec": {
   "display_name": "Python 3",
   "language": "python",
   "name": "python3"
  },
  "language_info": {
   "codemirror_mode": {
    "name": "ipython",
    "version": 3
   },
   "file_extension": ".py",
   "mimetype": "text/x-python",
   "name": "python",
   "nbconvert_exporter": "python",
   "pygments_lexer": "ipython3",
   "version": "3.6.4"
  }
 },
 "nbformat": 4,
 "nbformat_minor": 2
}
