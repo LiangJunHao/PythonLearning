{
 "cells": [
  {
   "cell_type": "markdown",
   "metadata": {},
   "source": [
    "# Exercise 22. What Do You Know So Far"
   ]
  },
  {
   "cell_type": "markdown",
   "metadata": {},
   "source": [
    "##  Pay attention!!"
   ]
  },
  {
   "cell_type": "markdown",
   "metadata": {},
   "source": [
    "The most important thing when doing this exercise is, “There is no failure, only trying.”"
   ]
  },
  {
   "cell_type": "markdown",
   "metadata": {},
   "source": [
    "This exercise is a review exercise. In this Exercise I will go back to the previous exercise to check what I have learned. If we got trouble, that means I have some problem with that point. So, once you meet with your own problem, you are supposed to take a note and review this every few days"
   ]
  },
  {
   "cell_type": "markdown",
   "metadata": {},
   "source": [
    "## What Problem Do I Meet !!"
   ]
  },
  {
   "cell_type": "markdown",
   "metadata": {},
   "source": [
    "Exercise 1: I have learn how to **print** with Python\n",
    "\n",
    "Exercise 2: I learned how to make commit in Python script\n",
    "\n",
    "Exercise 3: ##I get stock here. Emmmm\n",
    "            Well, use the print function, you can make the simple math  calculate(no need to use double-quote). Just use some numbers to do it. If you do the comparation operations, the script will return you a \"True\" or \"False\".\n",
    "            \n",
    "Exercise 4: I learned how to add a varibles inside the print!\n",
    "\n",
    "Exercise 5: Learned using the f\"\" ('f' for format) in print.\n",
    "\n",
    "Exercise 6: print the variables(Oh, I almost forget this)\n",
    "            I get something new when I go over this exercise(Maybe you guys also will), **f** means do the {} translation into the string. And the content in the \"\"(double-quote) is the thing that will show in the screen\n",
    "            The variable.format() (I still don't know what is it)\n",
    "            Two variable can add together so they will come up with a new string.\n",
    "           \n",
    "Exercise 7: format.('content') means that put the content into the print function and replace the content in the {}, I will try to make a demo to you\n",
    "\n",
    "Exercise 8: Okay, let's see exercise8, this is an exercise also about **.format**, you can just import the thing you want the script to show, like..Okay I'm tired . See you tomorrow!!\n",
    "\n",
    "Exercise 9:\n",
    "\n",
    "Exercise 10:\n",
    "\n",
    "Exercise 11:\n",
    "\n",
    "Exercise 12:\n",
    "\n",
    "Exercise 13:\n",
    "\n",
    "Exercise 14:\n",
    "\n",
    "Exercise 15:\n",
    "\n",
    "Exercise 16:\n",
    "\n",
    "Exercise 17:\n",
    "\n",
    "Exercise 18:\n",
    "\n",
    "Exercise 19:\n",
    "\n",
    "Exercise 20:\n",
    "\n",
    "Exercise 21:\n",
    "\n"
   ]
  }
 ],
 "metadata": {
  "kernelspec": {
   "display_name": "Python 3",
   "language": "python",
   "name": "python3"
  },
  "language_info": {
   "codemirror_mode": {
    "name": "ipython",
    "version": 3
   },
   "file_extension": ".py",
   "mimetype": "text/x-python",
   "name": "python",
   "nbconvert_exporter": "python",
   "pygments_lexer": "ipython3",
   "version": "3.6.4"
  }
 },
 "nbformat": 4,
 "nbformat_minor": 2
}
