{
 "cells": [
  {
   "cell_type": "markdown",
   "metadata": {},
   "source": [
    "# Exercise 22. What Do You Know So Far"
   ]
  },
  {
   "cell_type": "markdown",
   "metadata": {},
   "source": [
    "##  Pay attention!!"
   ]
  },
  {
   "cell_type": "markdown",
   "metadata": {},
   "source": [
    "The most important thing when doing this exercise is, “There is no failure, only trying.”"
   ]
  },
  {
   "cell_type": "markdown",
   "metadata": {},
   "source": [
    "This exercise is a review exercise. In this Exercise I will go back to the previous exercise to check what I have learned. If we got trouble, that means I have some problem with that point. So, once you meet with your own problem, you are supposed to take a note and review this every few days"
   ]
  },
  {
   "cell_type": "markdown",
   "metadata": {},
   "source": [
    "## What Problem Do I Meet !!"
   ]
  },
  {
   "cell_type": "markdown",
   "metadata": {},
   "source": [
    "Exercise 1: I have learn how to **print** with Python\n",
    "\n",
    "Exercise 2: I learned how to make commit in Python script\n",
    "\n",
    "Exercise 3: ##I get stock here. Emmmm\n",
    "            Well, use the print function, you can make the simple math  calculate(no need to use double-quote). Just use some numbers to do it. If you do the comparation operations, the script will return you a \"True\" or \"False\".\n",
    "            \n",
    "Exercise 4: I learned how to add a varibles inside the print!\n",
    "\n",
    "Exercise 5: Learned using the f\"\" ('f' for format) in print.\n",
    "\n",
    "Exercise 6: print the variables(Oh, I almost forget this)\n",
    "            I get something new when I go over this exercise(Maybe you guys also will), **f** means do the {} translation into the string. And the content in the \"\"(double-quote) is the thing that will show in the screen\n",
    "            The variable.format() (I still don't know what is it)\n",
    "            Two variable can add together so they will come up with a new string.\n",
    "           \n",
    "Exercise 7: format.('content') means that put the content into the print function and replace the content in the {}, I will try to make a demo to you\n",
    "\n",
    "Exercise 8: Okay, let's see exercise8, this is an exercise also about **.format**, you can just import the thing you want the script to show, in the exercise we use four {} to convent our value. And there is a point that you need to know is **,** is a separator between two valus\n",
    "\n",
    "Exercise 9: This exercise teach us to use '\\n' or \"\"\" \"\"\" to do the line feed.\n",
    "\n",
    "Exercise 10: Then it tell us what the function of the backslash. Backslash can encode diffficult-to-type characters into a sring. There are various escape sequences available for different characters.\n",
    "\n",
    "Exercise 11: Get the data from the user. **input()**\n",
    "\n",
    "Exercise 12: Also get the data from the user, but before we can give some prompt to the people who are using this script.\n",
    "\n",
    "Exercise 13: Parameters, Unpacking, Variables. We input our argument througt the command line. Of course, we need to import argv at the first line.\n",
    "\n",
    "Exercise 14: A combination of the preceding exercises.\n",
    "\n",
    "Exercise 15: Read the data form a file, first we need to open the file and then we can read it.\n",
    "\n",
    "Exercise 16: We know 6 commands to handle file(close, read, readline, truncate, write, seek)\n",
    "\n",
    "Exercise 17: How to copy file data from one file to another file, open two file, one in read mode while the other in write mode. Read the data from the output file and write them into the recieve file.\n",
    "\n",
    "Exercise 18: It's about functions. Using **def** to define a function, and be careful there is a **:** after the def line.\n",
    "\n",
    "Exercise 19: This exercise tell us what kind of arguments we can pass throught the **()**\n",
    "\n",
    "Exercise 20: It combines functions and file. In the function we define how to make the function work.\n",
    "\n",
    "Exercise 21: Function retunrns!\n",
    "\n"
   ]
  }
 ],
 "metadata": {
  "kernelspec": {
   "display_name": "Python 3",
   "language": "python",
   "name": "python3"
  },
  "language_info": {
   "codemirror_mode": {
    "name": "ipython",
    "version": 3
   },
   "file_extension": ".py",
   "mimetype": "text/x-python",
   "name": "python",
   "nbconvert_exporter": "python",
   "pygments_lexer": "ipython3",
   "version": "3.6.4"
  }
 },
 "nbformat": 4,
 "nbformat_minor": 2
}
