{
 "cells": [
  {
   "cell_type": "markdown",
   "metadata": {},
   "source": [
    "# Exercise 6. Strings and Text"
   ]
  },
  {
   "cell_type": "markdown",
   "metadata": {},
   "source": [
    "### Description"
   ]
  },
  {
   "cell_type": "markdown",
   "metadata": {},
   "source": [
    "A string is usually a bit of text you want to display to someone or “export” out of the program you are writing."
   ]
  },
  {
   "cell_type": "code",
   "execution_count": 4,
   "metadata": {},
   "outputs": [
    {
     "name": "stdout",
     "output_type": "stream",
     "text": [
      "There are 10 type of people\n",
      "Those who know binary and those who don't\n",
      "I said :There are 10 type of people\n",
      "I also said :Those who know binary and those who don't\n",
      "Isn´t that joke so funny ?! False\n",
      "This is the left side of ...a string with a right side \n"
     ]
    }
   ],
   "source": [
    "type_of_people =10\n",
    "x=f\"There are {type_of_people} type of people\"\n",
    "binary=\"binary\"\n",
    "do_not=\"don't\"\n",
    "y=f\"Those who know {binary} and those who {do_not}\"\n",
    "\n",
    "print(x)\n",
    "print(y)\n",
    "\n",
    "print(f\"I said :{x}\")\n",
    "print(f\"I also said :{y}\")\n",
    "\n",
    "hilarious =False\n",
    "joke_evaluation=\"Isn´t that joke so funny ?! {}\"#like a function?\n",
    "\n",
    "print (joke_evaluation.format(hilarious))#take a variable in to the function\n",
    "#What does the .format mean?\n",
    "\n",
    "w= \"This is the left side of ...\"\n",
    "e= \"a string with a right side \"\n",
    "\n",
    "print(w + e)"
   ]
  },
  {
   "cell_type": "markdown",
   "metadata": {},
   "source": [
    "### You should see these\n",
    "There are 10 types of people.\n",
    "Those who know binary and those who don't.\n",
    "I said: There are 10 types of people.\n",
    "I also said: 'Those who know binary and those who don't.'\n",
    "Isn't that joke so funny?! False\n",
    "This is the left side of...a string with a right side."
   ]
  },
  {
   "cell_type": "markdown",
   "metadata": {},
   "source": [
    "\n",
    "### Study Drills\n",
    "\n",
    "1. Go through this program and write a comment above each line explaining it.\n",
    "\n",
    "2. Find all the places where a string is put inside a string. There are four places.\n",
    "\n",
    "3. Are you sure there are only four places? How do you know? Maybe I like lying.\n",
    "\n",
    "4. Explain why adding the two strings w and e with + makes a longer string."
   ]
  }
 ],
 "metadata": {
  "kernelspec": {
   "display_name": "Python 3",
   "language": "python",
   "name": "python3"
  },
  "language_info": {
   "codemirror_mode": {
    "name": "ipython",
    "version": 3
   },
   "file_extension": ".py",
   "mimetype": "text/x-python",
   "name": "python",
   "nbconvert_exporter": "python",
   "pygments_lexer": "ipython3",
   "version": "3.6.4"
  }
 },
 "nbformat": 4,
 "nbformat_minor": 2
}
