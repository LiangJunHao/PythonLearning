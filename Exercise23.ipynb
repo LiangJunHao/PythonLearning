{
 "cells": [
  {
   "cell_type": "markdown",
   "metadata": {},
   "source": [
    "# Exercise 23. Strings, Bytes, and Character Encodings"
   ]
  },
  {
   "cell_type": "markdown",
   "metadata": {},
   "source": [
    "## Concept"
   ]
  },
  {
   "cell_type": "markdown",
   "metadata": {},
   "source": [
    "1. How modern computers store human languages for display and processing and how Python 3 calls this *strings*\n",
    "\n",
    "2. How you must “encode” and “decode” Python’s strings into a type called bytes\n",
    "\n",
    "3. How to handle errors in your string and byte handling\n",
    "\n",
    "4. How to read code and find out what it means even if you’ve never seen it before"
   ]
  },
  {
   "cell_type": "markdown",
   "metadata": {},
   "source": [
    "## Code"
   ]
  },
  {
   "cell_type": "code",
   "execution_count": null,
   "metadata": {},
   "outputs": [],
   "source": [
    "import sys\n",
    "script, encoding, error = sys.argv\n",
    "\n",
    "def main(language_file, encoding, errors):\n",
    "    line = language_file.readline()\n",
    "    \n",
    "    if line:\n",
    "        print_line(line, encoding, errors)\n",
    "        return main(language_file, encoding, errors)\n",
    "\n",
    "def print_line(line, encoding, errors):\n",
    "    next_lang =line.strip()\n",
    "    raw_bytes = next_lang.encode(encoding, errors=errors)\n",
    "    cooked_string = raw_bytes.decode(encoding, errors=errors)\n",
    "    \n",
    "    print(raw_bytes,\"<===>\",cooked_string)\n",
    "    \n",
    "languages = open(\"languages.txt\", encoding=\"utf-8\")\n",
    "\n",
    "main(languages, encoding, error)\n",
    "        "
   ]
  },
  {
   "cell_type": "code",
   "execution_count": null,
   "metadata": {},
   "outputs": [],
   "source": []
  }
 ],
 "metadata": {
  "kernelspec": {
   "display_name": "Python 3",
   "language": "python",
   "name": "python3"
  },
  "language_info": {
   "codemirror_mode": {
    "name": "ipython",
    "version": 3
   },
   "file_extension": ".py",
   "mimetype": "text/x-python",
   "name": "python",
   "nbconvert_exporter": "python",
   "pygments_lexer": "ipython3",
   "version": "3.6.4"
  }
 },
 "nbformat": 4,
 "nbformat_minor": 2
}
