{
 "cells": [
  {
   "cell_type": "markdown",
   "metadata": {},
   "source": [
    "# Exercise 3 Numbers and Math"
   ]
  },
  {
   "cell_type": "code",
   "execution_count": 7,
   "metadata": {},
   "outputs": [
    {
     "name": "stdout",
     "output_type": "stream",
     "text": [
      "I will now count my chickens:\n",
      "Hen 30.0\n",
      "Roosters 97\n",
      "Now I will count the eggs:\n",
      "6.75\n",
      "Is it true that 3 + 2 < 5 - 7\n",
      "What is 3 + 2 5\n",
      "What is 5 - 7 -2\n",
      "OH, that´s why it´s Flase.\n",
      "How about some more.\n",
      "Is it great? True\n",
      "Is it greater or equal True\n",
      "Is it less or more? False\n"
     ]
    }
   ],
   "source": [
    "print(\"I will now count my chickens:\")\n",
    "print(\"Hen\",25+30/6)\n",
    "print(\"Roosters\",100-25*3%4)\n",
    "print(\"Now I will count the eggs:\")\n",
    "print(3+2+1-5+4%2-1/4+6)\n",
    "print(\"Is it true that 3 + 2 < 5 - 7\")\n",
    "print(\"What is 3 + 2\",3+2)\n",
    "print(\"What is 5 - 7\",5-7)\n",
    "print(\"OH, that´s why it´s Flase.\")\n",
    "\n",
    "print(\"How about some more.\")\n",
    "print(\"Is it great?\",5 > -2)\n",
    "print(\"Is it greater or equal\", 5 >= -2)\n",
    "print(\"Is it less or more?\",5 <= -2)"
   ]
  },
  {
   "cell_type": "markdown",
   "metadata": {},
   "source": [
    "\n",
    "## Study Drills\n",
    "\n",
    "1. Above each line, use the # to write a comment to yourself explaining what the line does.\n",
    "\n",
    "2. Remember in Exercise 0 when you started python3.6? Start python3.6 this way again and, using the math operators, use Python as a calculator.\n",
    "\n",
    "3. Find something you need to calculate and write a new .py file that does it.\n",
    "\n",
    "4. Rewrite ex3.py to use floating point numbers so it’s more accurate. 20.0 is floating point."
   ]
  }
 ],
 "metadata": {
  "kernelspec": {
   "display_name": "Python 3",
   "language": "python",
   "name": "python3"
  },
  "language_info": {
   "codemirror_mode": {
    "name": "ipython",
    "version": 3
   },
   "file_extension": ".py",
   "mimetype": "text/x-python",
   "name": "python",
   "nbconvert_exporter": "python",
   "pygments_lexer": "ipython3",
   "version": "3.6.4"
  }
 },
 "nbformat": 4,
 "nbformat_minor": 2
}
