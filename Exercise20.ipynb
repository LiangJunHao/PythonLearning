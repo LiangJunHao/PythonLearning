{
 "cells": [
  {
   "cell_type": "markdown",
   "metadata": {},
   "source": [
    "# Exercise 20.Functions and Files"
   ]
  },
  {
   "cell_type": "markdown",
   "metadata": {},
   "source": [
    "## Code"
   ]
  },
  {
   "cell_type": "code",
   "execution_count": null,
   "metadata": {},
   "outputs": [],
   "source": [
    "from sys import argv\n",
    "script , input_file = argv\n",
    "\n",
    "def print_all(f):\n",
    "    print(f.read())\n",
    "    \n",
    "def rewind(f):\n",
    "    f.seek(0)\n",
    "\n",
    "def print_a_line(line_count, f):\n",
    "    print(line_count, f.readline())\n",
    "\n",
    "current_file =open(input_file)\n",
    "\n",
    "print(\"First, Let's us print the whole file:\\n\")\n",
    "\n",
    "print_all(current_file)\n",
    "\n",
    "print(\"Now let's us rewind , kind of like a tape.\")\n",
    "\n",
    "rewind(current_file)\n",
    "\n",
    "print(\"Let's print three lines:\")\n",
    "\n",
    "current_line = 1\n",
    "print_a_line(current_line, current_file)\n",
    "current_line = current_line + 1\n",
    "print_a_line(current_line, current_file)\n",
    "current_line = current_line + 1\n",
    "print_a_line(current_line, current_file)"
   ]
  },
  {
   "cell_type": "markdown",
   "metadata": {},
   "source": [
    "## What You Should See"
   ]
  },
  {
   "cell_type": "markdown",
   "metadata": {},
   "source": [
    ">$ python3.6 ex20.py test.txt\n",
    "\n",
    ">First let's print the whole file:\n",
    "\n",
    ">This is line 1\n",
    "\n",
    ">This is line 2\n",
    "\n",
    ">This is line 3\n",
    "\n",
    ">Now let's rewind, kind of like a tape.\n",
    "\n",
    ">Let's print three lines:\n",
    "\n",
    ">1 This is line 1\n",
    "\n",
    ">2 This is line 2\n",
    "\n",
    ">3 This is line 3"
   ]
  },
  {
   "cell_type": "markdown",
   "metadata": {},
   "source": [
    "## Studu Drill"
   ]
  },
  {
   "cell_type": "markdown",
   "metadata": {},
   "source": [
    "1. Write an English comment for each line to understand what that line does.\n",
    "\n",
    "2. Each time print_a_line is run, you are passing in a variable, current_line. Write out what current_line is equal to on each function call, and trace how it becomes line_count in print_a_line.\n",
    "\n",
    "3. Find each place a function is used, and check its def to make sure that you are giving it the right arguments.\n",
    "\n",
    "4. Research online what the seek function for file does. Try pydoc file, and see if you can figure it out from there. Then try pydoc file.seek to see what seek does.\n",
    "\n",
    "5. Research the shorthand notation +=, and rewrite the script to use += instead."
   ]
  },
  {
   "cell_type": "markdown",
   "metadata": {},
   "source": [
    "## Summary"
   ]
  },
  {
   "cell_type": "markdown",
   "metadata": {},
   "source": [
    "In the script, we can use current += to replace current_line = current_line +1"
   ]
  }
 ],
 "metadata": {
  "kernelspec": {
   "display_name": "Python 3",
   "language": "python",
   "name": "python3"
  },
  "language_info": {
   "codemirror_mode": {
    "name": "ipython",
    "version": 3
   },
   "file_extension": ".py",
   "mimetype": "text/x-python",
   "name": "python",
   "nbconvert_exporter": "python",
   "pygments_lexer": "ipython3",
   "version": "3.6.4"
  }
 },
 "nbformat": 4,
 "nbformat_minor": 2
}
