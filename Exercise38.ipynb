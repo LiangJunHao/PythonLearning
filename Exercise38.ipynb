{
 "cells": [
  {
   "cell_type": "markdown",
   "metadata": {},
   "source": [
    "# Exercise 38 .Doing Thing to Lists"
   ]
  },
  {
   "cell_type": "markdown",
   "metadata": {},
   "source": [
    "## Code"
   ]
  },
  {
   "cell_type": "code",
   "execution_count": 15,
   "metadata": {},
   "outputs": [
    {
     "name": "stdout",
     "output_type": "stream",
     "text": [
      "Wait there are not 10 things in that list. Let's fix that.\n",
      "Adding  Boy\n",
      "There are 7 items now.\n",
      "Adding  Girl\n",
      "There are 8 items now.\n",
      "Adding  Banana\n",
      "There are 9 items now.\n",
      "Adding  Corn\n",
      "There are 10 items now.\n",
      "There we go ['Apples', 'Oranges', 'Crow', 'Telephone', 'Light', 'Sugar', 'Boy', 'Girl', 'Banana', 'Corn']\n",
      "Let's do some things with stuff.\n",
      "Apples\n",
      "Corn\n",
      "Corn\n",
      "['Apples', 'Oranges', 'Crow', 'Telephone', 'Light', 'Sugar', 'Boy', 'Girl', 'Banana']\n",
      "Apples Oranges Crow Telephone Light Sugar Boy Girl Banana\n",
      "Apples#Oranges#Crow#Telephone#Light#Sugar#Boy#Girl#Banana\n",
      "ApplesOrangesCrowTelephoneLightSugarBoyGirlBanana\n"
     ]
    }
   ],
   "source": [
    "ten_things = \"Apples Oranges Crow Telephone Light Sugar\"\n",
    "\n",
    "print(\"Wait there are not 10 things in that list. Let's fix that.\")\n",
    "\n",
    "stuff = ten_things.split(' ')\n",
    "more_stuff = [\"Day\", \"Night\", \"Song\", \"Frisbee\", \"Corn\", \"Banana\", \"Girl\", \"Boy\"]\n",
    "\n",
    "while len(stuff)!= 10:\n",
    "    next_one = more_stuff.pop()\n",
    "    print(\"Adding \",next_one)\n",
    "    stuff.append(next_one)\n",
    "    print(f\"There are {len(stuff)} items now.\")\n",
    "    \n",
    "print(\"There we go\", stuff)\n",
    "\n",
    "print(\"Let's do some things with stuff.\")\n",
    "\n",
    "print(stuff[0])\n",
    "print(stuff[-1])\n",
    "print(stuff.pop())\n",
    "print(stuff)\n",
    "print(\" \".join(stuff))\n",
    "print(\"#\".join(stuff[3:5]))#using the character in the double-quote to divide the content\n",
    "print(''.join(stuff))"
   ]
  },
  {
   "cell_type": "markdown",
   "metadata": {},
   "source": [
    "## Note"
   ]
  },
  {
   "cell_type": "markdown",
   "metadata": {},
   "source": [
    "Old things to renew: .split() dividing the list\n",
    "New things: len(list_name), ' '.join(list)\n"
   ]
  },
  {
   "cell_type": "markdown",
   "metadata": {},
   "source": [
    "## Study Drill"
   ]
  },
  {
   "cell_type": "markdown",
   "metadata": {},
   "source": [
    "1. Take each function that is called, and go through the steps for function calls to translate them to what Python does. For example, more_stuff.pop() is pop(more_stuff).\n",
    "\n",
    "2. Translate these two ways to view the function calls in English. For example, more_stuff.pop() reads as, “Call pop on more_stuff.” Meanwhile, pop(more_stuff) means, “Call pop with argument more_stuff.” Understand how they are really the same thing.\n",
    "\n",
    "3. Go read about object-oriented programming online. Confused? I was, too. Do not worry. You will learn enough to be dangerous, and you can slowly learn more later.\n",
    "\n",
    "4. Read up on what a class is in Python. Do not read about how other languages use the word “class.” That will only mess you up.\n",
    "\n",
    "5. Do not worry If you do not have any idea what I’m talking about. Programmers like to feel smart, so they invented object-oriented programming, named it OOP, and then used it way too much. If you think that’s hard, you should try to use “functional programming.”\n",
    "\n",
    "6. Find 10 examples of things in the real world that would fit in a list. Try writing some scripts to work with them."
   ]
  }
 ],
 "metadata": {
  "kernelspec": {
   "display_name": "Python 3",
   "language": "python",
   "name": "python3"
  },
  "language_info": {
   "codemirror_mode": {
    "name": "ipython",
    "version": 3
   },
   "file_extension": ".py",
   "mimetype": "text/x-python",
   "name": "python",
   "nbconvert_exporter": "python",
   "pygments_lexer": "ipython3",
   "version": "3.6.4"
  }
 },
 "nbformat": 4,
 "nbformat_minor": 2
}
