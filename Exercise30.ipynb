{
 "cells": [
  {
   "cell_type": "markdown",
   "metadata": {},
   "source": [
    "# Exercise 30. Else and If"
   ]
  },
  {
   "cell_type": "markdown",
   "metadata": {},
   "source": [
    "## Introduction"
   ]
  },
  {
   "cell_type": "markdown",
   "metadata": {},
   "source": [
    "In the last exercise, we worked out some if-statements and then make then run. In this exercise, we can make it work in another way. So, let's try to make the same result as the last exercise."
   ]
  },
  {
   "cell_type": "markdown",
   "metadata": {},
   "source": [
    "## Code"
   ]
  },
  {
   "cell_type": "code",
   "execution_count": 5,
   "metadata": {},
   "outputs": [
    {
     "name": "stdout",
     "output_type": "stream",
     "text": [
      "We should take the cars.\n",
      "Maybe we could take the trucks.\n",
      "Alright, let's just take the trunks.\n"
     ]
    }
   ],
   "source": [
    "people =30\n",
    "cars = 40\n",
    "trunks =15\n",
    "\n",
    "if cars > people:\n",
    "    print(\"We should take the cars.\")\n",
    "elif cars < people:\n",
    "    print(\"We should not take the cars\")\n",
    "else:\n",
    "    print(\"We can't decide.\")\n",
    "    \n",
    "    \n",
    "if trunks > cars:\n",
    "    print(\"That's too many trunks.\")\n",
    "elif trunks < cars:\n",
    "    print(\"Maybe we could take the trucks.\")\n",
    "else:\n",
    "    print(\"We still can't decide.\")\n",
    "\n",
    "if people> trunks:\n",
    "    print(\"Alright, let's just take the trunks.\")\n",
    "\n",
    "else:\n",
    "    print(\"Fine, let's stay home then\")"
   ]
  },
  {
   "cell_type": "markdown",
   "metadata": {},
   "source": [
    "## What You Should See"
   ]
  },
  {
   "cell_type": "markdown",
   "metadata": {},
   "source": [
    "Run it (no bb)"
   ]
  },
  {
   "cell_type": "markdown",
   "metadata": {},
   "source": [
    "## Study Drill"
   ]
  },
  {
   "cell_type": "markdown",
   "metadata": {},
   "source": [
    "1. Try to guess what elif and else are doing.\n",
    "\n",
    "2. Change the numbers of cars, people, and trucks, and then trace through each if-statement to see what will be printed.\n",
    "\n",
    "3. Try some more complex Boolean expressions like cars > people or trucks < cars.\n",
    "\n",
    "4. Above each line write a comment describing what the line does."
   ]
  },
  {
   "cell_type": "markdown",
   "metadata": {},
   "source": [
    "1. I know what they are doing.\n",
    "2. Just like the last exercise. You have asked this question.\n",
    "3. Get it."
   ]
  }
 ],
 "metadata": {
  "kernelspec": {
   "display_name": "Python 3",
   "language": "python",
   "name": "python3"
  },
  "language_info": {
   "codemirror_mode": {
    "name": "ipython",
    "version": 3
   },
   "file_extension": ".py",
   "mimetype": "text/x-python",
   "name": "python",
   "nbconvert_exporter": "python",
   "pygments_lexer": "ipython3",
   "version": "3.6.4"
  }
 },
 "nbformat": 4,
 "nbformat_minor": 2
}
