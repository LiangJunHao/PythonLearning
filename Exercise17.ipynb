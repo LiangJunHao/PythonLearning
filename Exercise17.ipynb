{
 "cells": [
  {
   "cell_type": "markdown",
   "metadata": {},
   "source": [
    "# Exercise 17. More Files"
   ]
  },
  {
   "cell_type": "markdown",
   "metadata": {},
   "source": [
    "## Code"
   ]
  },
  {
   "cell_type": "code",
   "execution_count": null,
   "metadata": {},
   "outputs": [],
   "source": [
    "from sys import argv\n",
    "form os.path import exists\n",
    "\n",
    "script, from_file, to_file =argv\n",
    "\n",
    "print(f\"Copying from {from_file} to {to_file}...\")\n",
    "\n",
    "in_file =open(from_file)\n",
    "indata = infile.read()\n",
    "\n",
    "print(indata)\n",
    "print(f\"The input file is {len(indata)} bytes long.\")\n",
    "\n",
    "print(f\"Does the output file exist? {exists(to_file)}\")\n",
    "print(\"Ready, hit RETURN to continue, CTRL-C to abort\")\n",
    "input(\"?\")\n",
    "\n",
    "out_file = open(to_file,'w')\n",
    "out_file.write(indata)\n",
    "print(\"All right, all done.\")\n",
    "\n",
    "out_file.close()\n",
    "in_file.close()"
   ]
  },
  {
   "cell_type": "markdown",
   "metadata": {},
   "source": [
    "## What You Should See"
   ]
  },
  {
   "cell_type": "markdown",
   "metadata": {},
   "source": [
    "> $ python3.6 > ex17.py test.txt new_file.txt\n",
    "\n",
    "> Copying from test.txt to new_file.txt...\n",
    "\n",
    ">This is a test file.\n",
    "\n",
    "> The input file is 21 bytes long.\n",
    "\n",
    "> Does the output file exist? False\n",
    "\n",
    "> Ready, hit RETURN to continue, CTRL-C to abort\n",
    "\n",
    "> ? \n",
    "\n",
    "> All right, all done.\n"
   ]
  },
  {
   "cell_type": "markdown",
   "metadata": {},
   "source": [
    "## Study Drill"
   ]
  },
  {
   "cell_type": "markdown",
   "metadata": {},
   "source": [
    "1. This script is really annoying. There’s no need to ask you before doing the copy, and it prints too much out to the screen. Try to make the script more friendly to use by removing features.\n",
    "\n",
    "2. See how short you can make the script. I could make this one line long.\n",
    "\n",
    "3. Notice at the end of the What You Should See section I used something called cat? It’s an old command that concatenates files together, but mostly it’s just an easy way to print a file to the screen. Type man cat to read about it.\n",
    "\n",
    "4. Find out why you had to write out_file.close() in the code.\n",
    "\n",
    "5. Go read up on Python’s import statement, and start python3.6 to try it out. Try importing some things and see if you can get it right. It’s alright if you do not."
   ]
  },
  {
   "cell_type": "markdown",
   "metadata": {},
   "source": [
    "## Note"
   ]
  },
  {
   "cell_type": "markdown",
   "metadata": {},
   "source": [
    "**indata = open(from_file).read()**, which means you don’t need to then do i**n_file.close()** when you reach the end of the script. It should already be closed by Python once that one line runs."
   ]
  },
  {
   "cell_type": "code",
   "execution_count": null,
   "metadata": {},
   "outputs": [],
   "source": []
  }
 ],
 "metadata": {
  "kernelspec": {
   "display_name": "Python 3",
   "language": "python",
   "name": "python3"
  },
  "language_info": {
   "codemirror_mode": {
    "name": "ipython",
    "version": 3
   },
   "file_extension": ".py",
   "mimetype": "text/x-python",
   "name": "python",
   "nbconvert_exporter": "python",
   "pygments_lexer": "ipython3",
   "version": "3.6.4"
  }
 },
 "nbformat": 4,
 "nbformat_minor": 2
}
