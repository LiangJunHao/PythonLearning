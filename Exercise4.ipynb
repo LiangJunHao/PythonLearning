{
 "cells": [
  {
   "cell_type": "markdown",
   "metadata": {},
   "source": [
    "# Exercise 4. Variables and Names"
   ]
  },
  {
   "cell_type": "markdown",
   "metadata": {},
   "source": [
    "If you get stuck with this exercise, remember the tricks you have been taught so far of finding differences and focusing on details:\n",
    "1. Write a comment above each line explaining to yourself in English what it does.\n",
    "2. Read your .py file backward.\n",
    "3. Read your .py file out loud, saying even the characters."
   ]
  },
  {
   "cell_type": "code",
   "execution_count": 3,
   "metadata": {},
   "outputs": [
    {
     "name": "stdout",
     "output_type": "stream",
     "text": [
      "There are 100 cars available\n",
      "There are only 30 drivers available\n",
      "There will be  70 empty cars today.\n",
      "We can transpot 120.0 people today.\n",
      "We have 90 to carpool today\n",
      "We need to put about 3.0 in each car.\n"
     ]
    }
   ],
   "source": [
    "cars = 100\n",
    "space_in_a_car=4.0\n",
    "drivers=30\n",
    "passengers=90\n",
    "cars_not_driven=cars-drivers\n",
    "cars_driven=drivers\n",
    "carpool_capacity =cars_driven * space_in_a_car\n",
    "average_passengers_per_car =passengers/cars_driven\n",
    "print(\"There are\",cars,\"cars available\")\n",
    "print(\"There are only\",drivers,\"drivers available\")\n",
    "print(\"There will be \",cars_not_driven,\"empty cars today.\")\n",
    "print(\"We can transpot\",carpool_capacity,\"people today.\")\n",
    "print(\"We have\",passengers,\"to carpool today\")\n",
    "print(\"We need to put about\",average_passengers_per_car,\"in each car.\")"
   ]
  },
  {
   "cell_type": "markdown",
   "metadata": {},
   "source": [
    "Here are more study drills:\n",
    "\n",
    "1. I used 4.0 for space_in_a_car, but is that necessary? What happens if it’s just 4?\n",
    "\n",
    "We can transpot 120.0 people today. ->We can transpot 120 people today.\n",
    "\n",
    "2. Remember that 4.0 is a floating point number. It’s just a number with a decimal point, and you need 4.0 instead of just 4 so that it is floating point.\n",
    "\n",
    "3. Write comments above each of the variable assignments.\n",
    "NO\n",
    "\n",
    "4. Make sure you know what = is called (equals) and that its purpose is to give data (numbers, strings, etc.) names (cars_driven, passengers).\n",
    "\n",
    "5. Remember that _ is an underscore character.\n",
    "\n",
    "6. Try running python3.6 from the Terminal as a calculator like you did before, and use variable names to do your calculations. Popular variable names include i, x, and j."
   ]
  },
  {
   "cell_type": "markdown",
   "metadata": {},
   "source": [
    "## Note\n",
    "Can we write x=100 instead of x = 100? You can, but it’s bad form. You should add space around operators like this so that it’s easier to read.\n",
    "\n",
    "What do you mean by “read the file backward”? Very simple. Imagine you have a file with 16 lines of code in it. Start at line 16, and compare it to my file at line 16. Then do it again for 15, and so on until you’ve read the whole file backward."
   ]
  }
 ],
 "metadata": {
  "kernelspec": {
   "display_name": "Python 3",
   "language": "python",
   "name": "python3"
  },
  "language_info": {
   "codemirror_mode": {
    "name": "ipython",
    "version": 3
   },
   "file_extension": ".py",
   "mimetype": "text/x-python",
   "name": "python",
   "nbconvert_exporter": "python",
   "pygments_lexer": "ipython3",
   "version": "3.6.4"
  }
 },
 "nbformat": 4,
 "nbformat_minor": 2
}
