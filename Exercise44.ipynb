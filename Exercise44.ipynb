{
 "cells": [
  {
   "cell_type": "markdown",
   "metadata": {},
   "source": [
    "# Exercise44. Inheritance versus Composition"
   ]
  },
  {
   "cell_type": "markdown",
   "metadata": {},
   "source": [
    "This section we will learn inheritance."
   ]
  },
  {
   "cell_type": "markdown",
   "metadata": {},
   "source": [
    "Most of the uses of inheritance can be simplified or replaced with composition, and multiple inheritance should be avoided at all costs."
   ]
  },
  {
   "cell_type": "markdown",
   "metadata": {},
   "source": [
    "## WHAT IS INHERITANCE"
   ]
  },
  {
   "cell_type": "markdown",
   "metadata": {},
   "source": [
    "1. Actions on the child imply an action on the parent.\n",
    "\n",
    "2. Actions on the child override the action on the parent.\n",
    "\n",
    "3. Actions on the child alter the action on the parent."
   ]
  },
  {
   "cell_type": "markdown",
   "metadata": {},
   "source": [
    "## Implicit Inheritance"
   ]
  },
  {
   "cell_type": "code",
   "execution_count": 7,
   "metadata": {},
   "outputs": [
    {
     "name": "stdout",
     "output_type": "stream",
     "text": [
      "Parent implicit()\n",
      "Parent implicit()\n"
     ]
    }
   ],
   "source": [
    "class Parent(object):\n",
    "    def implicit(self):\n",
    "        print(\"Parent implicit()\")\n",
    "\n",
    "class Children(Parent):\n",
    "    pass\n",
    "\n",
    "dad = Parent()\n",
    "son = Children()\n",
    "\n",
    "dad.implicit()\n",
    "son.implicit()"
   ]
  },
  {
   "cell_type": "markdown",
   "metadata": {},
   "source": [
    "## Override Explicitly"
   ]
  },
  {
   "cell_type": "code",
   "execution_count": 9,
   "metadata": {},
   "outputs": [
    {
     "name": "stdout",
     "output_type": "stream",
     "text": [
      "CHILD override()\n",
      "PARENT override()\n"
     ]
    }
   ],
   "source": [
    "class Parent(object):\n",
    "    def override(self):\n",
    "        print(\"PARENT override()\")\n",
    "        \n",
    "class Child(Parent):\n",
    "    def override(self):\n",
    "        print(\"CHILD override()\")\n",
    "        \n",
    "son = Child()\n",
    "dad = Parent()\n",
    "\n",
    "son.override()\n",
    "dad.override()"
   ]
  },
  {
   "cell_type": "markdown",
   "metadata": {},
   "source": [
    "## Alter Before or After"
   ]
  },
  {
   "cell_type": "code",
   "execution_count": 12,
   "metadata": {},
   "outputs": [
    {
     "name": "stdout",
     "output_type": "stream",
     "text": [
      "Parent altered()\n",
      "CHILD, BEFORE PARENT altered()\n",
      "Parent altered()\n",
      "CHILD, AFTER PARENT altered()\n"
     ]
    }
   ],
   "source": [
    "class Parent(object):\n",
    "    \n",
    "    def altered(self):\n",
    "        print(\"Parent altered()\")\n",
    "        \n",
    "class Child(Parent):\n",
    "    def altered(self):\n",
    "        print(\"CHILD, BEFORE PARENT altered()\")\n",
    "        super(Child, self).altered()\n",
    "        print(\"CHILD, AFTER PARENT altered()\")\n",
    "        \n",
    "dad = Parent()\n",
    "son = Child()\n",
    "\n",
    "dad.altered()\n",
    "son.altered()"
   ]
  },
  {
   "cell_type": "markdown",
   "metadata": {},
   "source": [
    "## SUPER()"
   ]
  },
  {
   "cell_type": "markdown",
   "metadata": {},
   "source": [
    "We will get into trouble with a thing called multple inheritance.\n",
    "Mutiple inheritance is when you define a class that inherits from one or more classes\n",
    "like:\n",
    "    \n",
    "    class SuperFun(Child,BadStuff)\n",
    "        pass\n",
    "        \n",
    "This is like saying, “Make a class named SuperFun that inherits from the classes Child and BadStuff at the same time.”\n",
    "\n",
    "Python gives you the super() function, which handles all of this for you in the places that you need the altering type of actions as I did in Child.altered. With super() you don’t have to worry about getting this right, and Python will find the right function for you."
   ]
  },
  {
   "cell_type": "markdown",
   "metadata": {},
   "source": [
    "## Using super() with __init__"
   ]
  },
  {
   "cell_type": "code",
   "execution_count": null,
   "metadata": {},
   "outputs": [],
   "source": [
    "class Child(Parent):\n",
    "    def __init__(self, stuff)\n",
    "    self.stuff = stuff\n",
    "    super(Child, self).__init__()"
   ]
  },
  {
   "cell_type": "code",
   "execution_count": null,
   "metadata": {},
   "outputs": [],
   "source": [
    "class Other(object):\n",
    "    def override(self):\n",
    "        print(\"OTHER override()\")\n",
    "        \n",
    "    def implicit(self):\n",
    "        print(\"OTHER implicit()\")4\n",
    "        \n",
    "    def altered(self):\n",
    "        print(\"OTHER altered()\")\n",
    "        \n",
    "class Child(object):\n",
    "    \n",
    "    def __init__(self):\n",
    "        self.other=Other\n",
    "        \n",
    "    def implicit(self):\n",
    "        self.other.implicit()\n",
    "        \n",
    "    def"
   ]
  }
 ],
 "metadata": {
  "kernelspec": {
   "display_name": "Python 3",
   "language": "python",
   "name": "python3"
  },
  "language_info": {
   "codemirror_mode": {
    "name": "ipython",
    "version": 3
   },
   "file_extension": ".py",
   "mimetype": "text/x-python",
   "name": "python",
   "nbconvert_exporter": "python",
   "pygments_lexer": "ipython3",
   "version": "3.6.4"
  }
 },
 "nbformat": 4,
 "nbformat_minor": 2
}
